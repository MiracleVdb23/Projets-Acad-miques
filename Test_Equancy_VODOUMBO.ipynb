{
 "cells": [
  {
   "cell_type": "markdown",
   "id": "40a1a3f0",
   "metadata": {},
   "source": [
    "\n",
    "<hr>\n",
    "\n",
    "## <h3 align=\"center\"> Equancy Test technique <h3/>\n",
    "\n",
    "<p>\n"
   ]
  },
  {
   "cell_type": "markdown",
   "id": "309a9b2d",
   "metadata": {},
   "source": [
    "\n",
    "\n",
    "\n",
    "# Détermination du métier d’un candidat\n",
    "\n",
    "\n",
    "\n",
    "## Objectif du Projet\n",
    "L’objectif de cet exercice est de déterminer le métier d’un candidat à partir des informations sur ses compétences.\n",
    "A partir d'un dataset de compétences, nous réaliserons:\n",
    "- Un clustering non supervisé afin d'identifier les groupes de profils techniques distincts\n",
    "- Une prédiction des profils dont le métier n'est pas labellisé\n",
    "\n",
    "\n",
    "## Étapes du Notebook\n",
    "1. Importation des bibliothèques\n",
    "2. Chargement des données\n",
    "3. Exploration des données\n",
    "    - 3.1 Analyse univariée de la variable dépendante\n",
    "    - 3.2 Analyse comparative du métier selon le diplôme\n",
    "4. Prétraitement des données\n",
    "    - 4.1 Expérience moyenne par métier\n",
    "    - 4.2 Catégorisation de la variable Experience\n",
    "    - 4.3 Analyse comparative du métier selon la catégorie d'expérience\n",
    "    - 4.4 Identification du top 5 des technologies    \n",
    "5. Clustering : classification non supervisée\n",
    "6. Prédiction des métiers manquants dans la base de données par Random Forest\n",
    "    - 6.1 Construction du modèle\n",
    "    - 6.2 Évaluation du modèle\n",
    "    - 6.3 Prédiction des métiers manquants\n",
    "\n",
    "\n",
    "\n"
   ]
  },
  {
   "cell_type": "markdown",
   "id": "1462cab7",
   "metadata": {},
   "source": [
    "## 1- Importation des bibliothèques"
   ]
  },
  {
   "cell_type": "code",
   "execution_count": 1,
   "id": "eb1fc767",
   "metadata": {},
   "outputs": [
    {
     "name": "stdout",
     "output_type": "stream",
     "text": [
      "Requirement already satisfied: kmodes in d:\\programme\\lib\\site-packages (0.12.2)\n",
      "Requirement already satisfied: numpy>=1.10.4 in d:\\programme\\lib\\site-packages (from kmodes) (1.24.3)\n",
      "Requirement already satisfied: scikit-learn>=0.22.0 in d:\\programme\\lib\\site-packages (from kmodes) (1.3.0)\n",
      "Requirement already satisfied: scipy>=0.13.3 in d:\\programme\\lib\\site-packages (from kmodes) (1.11.1)\n",
      "Requirement already satisfied: joblib>=0.11 in d:\\programme\\lib\\site-packages (from kmodes) (1.2.0)\n",
      "Requirement already satisfied: threadpoolctl>=2.0.0 in d:\\programme\\lib\\site-packages (from scikit-learn>=0.22.0->kmodes) (2.2.0)\n"
     ]
    }
   ],
   "source": [
    "!pip install kmodes\n",
    "import numpy as np # linear algebra\n",
    "import pandas as pd # data processing, CSV file I/O (e.g. pd.read_csv)\n",
    "import matplotlib.pyplot as plt\n",
    "import seaborn as sns\n",
    "from scipy.stats import chi2_contingency\n",
    "from sklearn.preprocessing import LabelEncoder\n",
    "from sklearn.preprocessing import OneHotEncoder\n",
    "from sklearn.ensemble import RandomForestClassifier\n",
    "from sklearn.model_selection import train_test_split,GridSearchCV\n",
    "from sklearn.metrics import roc_auc_score,roc_curve,auc,classification_report,accuracy_score,confusion_matrix,f1_score\n",
    "from matplotlib import colors\n",
    "from matplotlib.colors import ListedColormap, LinearSegmentedColormap\n",
    "from sklearn.preprocessing import label_binarize\n",
    "from sklearn.multiclass import OneVsRestClassifier\n",
    "from kmodes.kmodes import KModes"
   ]
  },
  {
   "cell_type": "markdown",
   "id": "6577e488",
   "metadata": {},
   "source": [
    "## 2- Chargement des données"
   ]
  },
  {
   "cell_type": "code",
   "execution_count": 2,
   "id": "3ca71a19",
   "metadata": {
    "scrolled": true
   },
   "outputs": [
    {
     "data": {
      "text/html": [
       "<div>\n",
       "<style scoped>\n",
       "    .dataframe tbody tr th:only-of-type {\n",
       "        vertical-align: middle;\n",
       "    }\n",
       "\n",
       "    .dataframe tbody tr th {\n",
       "        vertical-align: top;\n",
       "    }\n",
       "\n",
       "    .dataframe thead th {\n",
       "        text-align: right;\n",
       "    }\n",
       "</style>\n",
       "<table border=\"1\" class=\"dataframe\">\n",
       "  <thead>\n",
       "    <tr style=\"text-align: right;\">\n",
       "      <th></th>\n",
       "      <th>Entreprise</th>\n",
       "      <th>Metier</th>\n",
       "      <th>Technologies</th>\n",
       "      <th>Diplome</th>\n",
       "      <th>Experience</th>\n",
       "      <th>Ville</th>\n",
       "    </tr>\n",
       "  </thead>\n",
       "  <tbody>\n",
       "    <tr>\n",
       "      <th>0</th>\n",
       "      <td>Sanofi</td>\n",
       "      <td>Data scientist</td>\n",
       "      <td>Matlab/Python/Pyspark/Scikit-learn/Tensorflow</td>\n",
       "      <td>Master</td>\n",
       "      <td>1</td>\n",
       "      <td>Paris</td>\n",
       "    </tr>\n",
       "    <tr>\n",
       "      <th>1</th>\n",
       "      <td>Massachusetts General Hospital(MGH)</td>\n",
       "      <td>Data architecte</td>\n",
       "      <td>Python/Java/Scala/MongoDB</td>\n",
       "      <td>Master</td>\n",
       "      <td>3</td>\n",
       "      <td>Marseille</td>\n",
       "    </tr>\n",
       "    <tr>\n",
       "      <th>2</th>\n",
       "      <td>Delve</td>\n",
       "      <td>Lead data scientist</td>\n",
       "      <td>SPSS/SQL/Teradata/R/Python/Tensorflow/scikit-l...</td>\n",
       "      <td>Master</td>\n",
       "      <td>3</td>\n",
       "      <td>Nantes</td>\n",
       "    </tr>\n",
       "    <tr>\n",
       "      <th>3</th>\n",
       "      <td>Ann &amp; Robert H. Lurie Children’s Hospital of C...</td>\n",
       "      <td>Data scientist</td>\n",
       "      <td>C/C++/Java/Python</td>\n",
       "      <td>Master</td>\n",
       "      <td>1,5</td>\n",
       "      <td>Marseille</td>\n",
       "    </tr>\n",
       "    <tr>\n",
       "      <th>4</th>\n",
       "      <td>Arm</td>\n",
       "      <td>Data scientist</td>\n",
       "      <td>Matlab/Python/C++/numpy/Tensorflow/scikit-learn</td>\n",
       "      <td>Phd</td>\n",
       "      <td>NaN</td>\n",
       "      <td>Bordeaux</td>\n",
       "    </tr>\n",
       "  </tbody>\n",
       "</table>\n",
       "</div>"
      ],
      "text/plain": [
       "                                          Entreprise               Metier  \\\n",
       "0                                             Sanofi       Data scientist   \n",
       "1                Massachusetts General Hospital(MGH)      Data architecte   \n",
       "2                                              Delve  Lead data scientist   \n",
       "3  Ann & Robert H. Lurie Children’s Hospital of C...       Data scientist   \n",
       "4                                                Arm       Data scientist   \n",
       "\n",
       "                                        Technologies Diplome Experience  \\\n",
       "0      Matlab/Python/Pyspark/Scikit-learn/Tensorflow  Master          1   \n",
       "1                          Python/Java/Scala/MongoDB  Master          3   \n",
       "2  SPSS/SQL/Teradata/R/Python/Tensorflow/scikit-l...  Master          3   \n",
       "3                                  C/C++/Java/Python  Master        1,5   \n",
       "4    Matlab/Python/C++/numpy/Tensorflow/scikit-learn     Phd        NaN   \n",
       "\n",
       "       Ville  \n",
       "0      Paris  \n",
       "1  Marseille  \n",
       "2     Nantes  \n",
       "3  Marseille  \n",
       "4   Bordeaux  "
      ]
     },
     "execution_count": 2,
     "metadata": {},
     "output_type": "execute_result"
    }
   ],
   "source": [
    "df = pd.read_csv(\"data.csv\")\n",
    "df.head()"
   ]
  },
  {
   "cell_type": "markdown",
   "id": "87f80fdd",
   "metadata": {},
   "source": [
    "## 3- Exploration des données"
   ]
  },
  {
   "cell_type": "code",
   "execution_count": 3,
   "id": "d73cf8cb",
   "metadata": {},
   "outputs": [
    {
     "data": {
      "text/plain": [
       "(9582, 6)"
      ]
     },
     "execution_count": 3,
     "metadata": {},
     "output_type": "execute_result"
    }
   ],
   "source": [
    "df.shape"
   ]
  },
  {
   "cell_type": "code",
   "execution_count": 4,
   "id": "34b2f636",
   "metadata": {},
   "outputs": [
    {
     "data": {
      "text/plain": [
       "Index(['Entreprise', 'Metier', 'Technologies', 'Diplome', 'Experience',\n",
       "       'Ville'],\n",
       "      dtype='object')"
      ]
     },
     "execution_count": 4,
     "metadata": {},
     "output_type": "execute_result"
    }
   ],
   "source": [
    "df.columns"
   ]
  },
  {
   "cell_type": "code",
   "execution_count": 5,
   "id": "a71e0b6a",
   "metadata": {},
   "outputs": [
    {
     "name": "stdout",
     "output_type": "stream",
     "text": [
      "<class 'pandas.core.frame.DataFrame'>\n",
      "RangeIndex: 9582 entries, 0 to 9581\n",
      "Data columns (total 6 columns):\n",
      " #   Column        Non-Null Count  Dtype \n",
      "---  ------        --------------  ----- \n",
      " 0   Entreprise    9565 non-null   object\n",
      " 1   Metier        9563 non-null   object\n",
      " 2   Technologies  9582 non-null   object\n",
      " 3   Diplome       9582 non-null   object\n",
      " 4   Experience    9488 non-null   object\n",
      " 5   Ville         9582 non-null   object\n",
      "dtypes: object(6)\n",
      "memory usage: 449.3+ KB\n"
     ]
    }
   ],
   "source": [
    "df.info()"
   ]
  },
  {
   "cell_type": "code",
   "execution_count": 6,
   "id": "3d5c4ab0",
   "metadata": {
    "scrolled": false
   },
   "outputs": [
    {
     "name": "stdout",
     "output_type": "stream",
     "text": [
      "Nan in each columns:\n",
      "Entreprise      17\n",
      "Metier          19\n",
      "Technologies     0\n",
      "Diplome          0\n",
      "Experience      94\n",
      "Ville            0\n",
      "dtype: int64\n"
     ]
    }
   ],
   "source": [
    "print(\"Nan in each columns:\" , df.isna().sum(), sep='\\n')"
   ]
  },
  {
   "cell_type": "markdown",
   "id": "a4af1cfb",
   "metadata": {},
   "source": [
    "- The dataset has information about 9852 applicants.\n",
    "- We have 6 variables including 5 independent variables and 1 dependent variable which is Metier.\n",
    "- The dataset contains missing values.\n",
    "- We have 5 categorical variables: 'Entreprise', 'Metier', 'Technologies', 'Diplome',  'Ville'\n",
    "- We have 1 numeric variables: 'Experience'"
   ]
  },
  {
   "cell_type": "markdown",
   "id": "0a49a2b0",
   "metadata": {},
   "source": [
    "#### 3-1 Analyse univariée de la variable dépendante"
   ]
  },
  {
   "cell_type": "code",
   "execution_count": 7,
   "id": "3ed1c7d1",
   "metadata": {},
   "outputs": [
    {
     "data": {
      "text/plain": [
       "count               9563\n",
       "unique                 4\n",
       "top       Data scientist\n",
       "freq                3865\n",
       "Name: Metier, dtype: object"
      ]
     },
     "execution_count": 7,
     "metadata": {},
     "output_type": "execute_result"
    }
   ],
   "source": [
    "df.Metier.describe()"
   ]
  },
  {
   "cell_type": "code",
   "execution_count": 8,
   "id": "909bda90",
   "metadata": {},
   "outputs": [
    {
     "data": {
      "text/html": [
       "<div>\n",
       "<style scoped>\n",
       "    .dataframe tbody tr th:only-of-type {\n",
       "        vertical-align: middle;\n",
       "    }\n",
       "\n",
       "    .dataframe tbody tr th {\n",
       "        vertical-align: top;\n",
       "    }\n",
       "\n",
       "    .dataframe thead th {\n",
       "        text-align: right;\n",
       "    }\n",
       "</style>\n",
       "<table border=\"1\" class=\"dataframe\">\n",
       "  <thead>\n",
       "    <tr style=\"text-align: right;\">\n",
       "      <th></th>\n",
       "      <th>Metier</th>\n",
       "      <th>Nombre de candidats</th>\n",
       "    </tr>\n",
       "  </thead>\n",
       "  <tbody>\n",
       "    <tr>\n",
       "      <th>0</th>\n",
       "      <td>Data scientist</td>\n",
       "      <td>3865</td>\n",
       "    </tr>\n",
       "    <tr>\n",
       "      <th>1</th>\n",
       "      <td>Data engineer</td>\n",
       "      <td>2347</td>\n",
       "    </tr>\n",
       "    <tr>\n",
       "      <th>2</th>\n",
       "      <td>Data architecte</td>\n",
       "      <td>2123</td>\n",
       "    </tr>\n",
       "    <tr>\n",
       "      <th>3</th>\n",
       "      <td>Lead data scientist</td>\n",
       "      <td>1228</td>\n",
       "    </tr>\n",
       "  </tbody>\n",
       "</table>\n",
       "</div>"
      ],
      "text/plain": [
       "                Metier  Nombre de candidats\n",
       "0       Data scientist                 3865\n",
       "1        Data engineer                 2347\n",
       "2      Data architecte                 2123\n",
       "3  Lead data scientist                 1228"
      ]
     },
     "execution_count": 8,
     "metadata": {},
     "output_type": "execute_result"
    }
   ],
   "source": [
    "metier_df = df.Metier.value_counts().reset_index()\n",
    "\n",
    "# Renommer les colonnes pour plus de clarté\n",
    "metier_df.columns = ['Metier','Nombre de candidats']\n",
    "\n",
    "# Afficher la DataFrame\n",
    "metier_df"
   ]
  },
  {
   "cell_type": "code",
   "execution_count": 9,
   "id": "2c46dc95",
   "metadata": {},
   "outputs": [
    {
     "data": {
      "image/png": "[encoded data removed]",
      "text/plain": [
       "<Figure size 640x480 with 1 Axes>"
      ]
     },
     "metadata": {},
     "output_type": "display_data"
    }
   ],
   "source": [
    "# Création d'un graphique à barre avec Seaborn\n",
    "sns.barplot(data= metier_df, x='Metier', y= 'Nombre de candidats' )\n",
    "\n",
    "# Ajout d'etiquettes et de titre\n",
    "plt.title('Nombre de candidats par métier')\n",
    "plt.ylabel('Nombre de candidats')\n",
    "plt.xlabel('Métier')\n",
    "\n",
    "# Afficher le graphique\n",
    "plt.show()"
   ]
  },
  {
   "cell_type": "markdown",
   "id": "7052c8b1",
   "metadata": {},
   "source": [
    "#### 3-2 Analyse comparative du métier selon le diplome"
   ]
  },
  {
   "cell_type": "code",
   "execution_count": 10,
   "id": "5e633ae2",
   "metadata": {},
   "outputs": [
    {
     "data": {
      "text/plain": [
       "<matplotlib.legend.Legend at 0x1e7cea8b090>"
      ]
     },
     "execution_count": 10,
     "metadata": {},
     "output_type": "execute_result"
    },
    {
     "data": {
      "image/png": "[encoded data removed]",
      "text/plain": [
       "<Figure size 640x480 with 1 Axes>"
      ]
     },
     "metadata": {},
     "output_type": "display_data"
    }
   ],
   "source": [
    "cross_tab_prop_dip = pd.crosstab(index=df['Metier'], columns=df['Diplome'], normalize='index')\n",
    "\n",
    "# Définir une liste de quatre couleurs qui vont bien ensemble\n",
    "colors = ['#6a0572', '#ff8c00', '#2b9348', '#005082']\n",
    "\n",
    "# Créer une colormap à partir de la liste de couleurs\n",
    "custom_cmap = ListedColormap(colors)\n",
    "\n",
    "ax = cross_tab_prop_dip.plot(kind='bar', stacked=True, width=0.8,  cmap= custom_cmap,\n",
    "                        legend=False, ylabel='Proportion', sharey=True)\n",
    "handles, labels = ax.get_legend_handles_labels()\n",
    "ax.legend(handles, labels, loc='upper left', bbox_to_anchor=(1, 1))\n"
   ]
  },
  {
   "cell_type": "markdown",
   "id": "07af9602",
   "metadata": {},
   "source": [
    "La colonne Expérience présente actuellement des valeurs de type 'object' et utilise des virgules pour représenter les nombres décimaux, ce qui n'est pas conforme à la convention utilisée par Python (qui reconnait les nombres décimaux avec les points). Pour résoudre cette situation, il est nécessaire d'effectuer les opérations suivantes: remplacer toutes les virgules par des points dans la colonne Experience et ensuite convertir les valeurs de la colonne du type 'string' vers le type 'float' pour assurer la cohérence des données."
   ]
  },
  {
   "cell_type": "markdown",
   "id": "b70a98c2",
   "metadata": {},
   "source": [
    "## 4. Prétraitement des données"
   ]
  },
  {
   "cell_type": "code",
   "execution_count": 11,
   "id": "3fff0a91",
   "metadata": {},
   "outputs": [],
   "source": [
    "# Convertir la colonne en float en remplaçant les virgules par des points\n",
    "df['Experience'] = df['Experience'].apply(lambda x: float(str(x).replace(',', '.')) if pd.notnull(x) else np.nan)\n"
   ]
  },
  {
   "cell_type": "code",
   "execution_count": 12,
   "id": "fd89e25a",
   "metadata": {},
   "outputs": [
    {
     "data": {
      "text/plain": [
       "Entreprise       object\n",
       "Metier           object\n",
       "Technologies     object\n",
       "Diplome          object\n",
       "Experience      float64\n",
       "Ville            object\n",
       "dtype: object"
      ]
     },
     "execution_count": 12,
     "metadata": {},
     "output_type": "execute_result"
    }
   ],
   "source": [
    "df.dtypes"
   ]
  },
  {
   "cell_type": "code",
   "execution_count": 13,
   "id": "957d5e9b",
   "metadata": {
    "scrolled": true
   },
   "outputs": [
    {
     "name": "stdout",
     "output_type": "stream",
     "text": [
      "L'expérience moyenne est: 2.8141863406408096\n",
      "L'expérience médiane est: 2.0\n"
     ]
    }
   ],
   "source": [
    "# Calculer la moyenne et la médiane de la variable Experience\n",
    "Exp_mean = df['Experience'].mean()\n",
    "Exp_med = df['Experience'].median()\n",
    "\n",
    "# Afficher les différentes valeurs \n",
    "print(\"L'expérience moyenne est:\", Exp_mean)\n",
    "print(\"L'expérience médiane est:\", Exp_med)"
   ]
  },
  {
   "cell_type": "code",
   "execution_count": 14,
   "id": "aaa50ada",
   "metadata": {},
   "outputs": [],
   "source": [
    "# Remplacement des valeurs manquantes en fonction du métier\n",
    "\n",
    "df.loc[df['Metier'] == 'Data scientist', \"Experience\"] = df.loc[df['Metier'] == 'Data scientist', \"Experience\"].fillna(Exp_mean)\n",
    "df.loc[df['Metier'] == 'Data engineer', \"Experience\"] = df.loc[df['Metier'] == 'Data engineer', \"Experience\"].fillna(Exp_med)\n"
   ]
  },
  {
   "cell_type": "code",
   "execution_count": 15,
   "id": "8e651952",
   "metadata": {},
   "outputs": [
    {
     "name": "stdout",
     "output_type": "stream",
     "text": [
      "Missing values in Experience columns :  42\n",
      "Missing values in Metier columns :  19\n"
     ]
    }
   ],
   "source": [
    "print(\"Missing values in Experience columns : \" , df.Experience.isna().sum())\n",
    "print(\"Missing values in Metier columns : \" , df.Metier.isna().sum())"
   ]
  },
  {
   "cell_type": "markdown",
   "id": "d89dd4b6",
   "metadata": {},
   "source": [
    "#### 4-1 Expérience moyenne par métier"
   ]
  },
  {
   "cell_type": "code",
   "execution_count": 16,
   "id": "6e98ffa4",
   "metadata": {},
   "outputs": [
    {
     "data": {
      "text/html": [
       "<div>\n",
       "<style scoped>\n",
       "    .dataframe tbody tr th:only-of-type {\n",
       "        vertical-align: middle;\n",
       "    }\n",
       "\n",
       "    .dataframe tbody tr th {\n",
       "        vertical-align: top;\n",
       "    }\n",
       "\n",
       "    .dataframe thead th {\n",
       "        text-align: right;\n",
       "    }\n",
       "</style>\n",
       "<table border=\"1\" class=\"dataframe\">\n",
       "  <thead>\n",
       "    <tr style=\"text-align: right;\">\n",
       "      <th></th>\n",
       "      <th>Metier</th>\n",
       "      <th>Experience moyenne</th>\n",
       "    </tr>\n",
       "  </thead>\n",
       "  <tbody>\n",
       "    <tr>\n",
       "      <th>0</th>\n",
       "      <td>Data architecte</td>\n",
       "      <td>3.000476</td>\n",
       "    </tr>\n",
       "    <tr>\n",
       "      <th>1</th>\n",
       "      <td>Data engineer</td>\n",
       "      <td>2.976566</td>\n",
       "    </tr>\n",
       "    <tr>\n",
       "      <th>2</th>\n",
       "      <td>Data scientist</td>\n",
       "      <td>2.248009</td>\n",
       "    </tr>\n",
       "    <tr>\n",
       "      <th>3</th>\n",
       "      <td>Lead data scientist</td>\n",
       "      <td>3.965261</td>\n",
       "    </tr>\n",
       "  </tbody>\n",
       "</table>\n",
       "</div>"
      ],
      "text/plain": [
       "                Metier  Experience moyenne\n",
       "0      Data architecte            3.000476\n",
       "1        Data engineer            2.976566\n",
       "2       Data scientist            2.248009\n",
       "3  Lead data scientist            3.965261"
      ]
     },
     "execution_count": 16,
     "metadata": {},
     "output_type": "execute_result"
    }
   ],
   "source": [
    "# Calcul de la moyenne de l'Experience pour chaque metier\n",
    "Moyenne_metier = df.groupby('Metier')['Experience'].mean().reset_index()\n",
    "\n",
    "# Renommer les colonnes pour plus de clarté\n",
    "Moyenne_metier.columns = ['Metier','Experience moyenne']\n",
    "\n",
    "# Afficher la DataFrame\n",
    "Moyenne_metier"
   ]
  },
  {
   "cell_type": "code",
   "execution_count": 17,
   "id": "9663c929",
   "metadata": {
    "scrolled": true
   },
   "outputs": [
    {
     "data": {
      "image/png": "[encoded data removed]",
      "text/plain": [
       "<Figure size 640x480 with 1 Axes>"
      ]
     },
     "metadata": {},
     "output_type": "display_data"
    }
   ],
   "source": [
    "# Création d'un graphique à barre avec Seaborn\n",
    "sns.barplot(data= Moyenne_metier, x='Metier', y= 'Experience moyenne' )\n",
    "\n",
    "# Ajout d'etiquettes et de titre\n",
    "plt.title('Expérience moyenne par métier')\n",
    "plt.ylabel('Expérience Moyenne')\n",
    "plt.xlabel('Métier')\n",
    "\n",
    "# Afficher le graphique\n",
    "plt.show()"
   ]
  },
  {
   "cell_type": "markdown",
   "id": "aa86e12a",
   "metadata": {},
   "source": [
    "Parmi les candidats, les Lead Data scientist ont en moyenne plus d'experience que les autres candidats. Par contre les Data Scientist ont en moyenne moins d'expérience par rapport aux autres candidats. \n",
    "\n",
    "#### 4-2 Catégorisation de la Variable Experience\n",
    "\n",
    "Pour categoriser la variable \"Experience\", nous représenterons un histogramme de cette variable numérique pour visualiser sa distribution naturelle. En analysant le graphique,  nous serons en mésure de définir les différentes bornes de classes à utiliser pour regrouper les valeurs d'experience. Cette approche nous permettra d'obtenir des catégories sigificatives et adaptées à la répartition des données. "
   ]
  },
  {
   "cell_type": "code",
   "execution_count": 18,
   "id": "7ca4bc01",
   "metadata": {
    "scrolled": false
   },
   "outputs": [
    {
     "data": {
      "text/html": [
       "<div>\n",
       "<style scoped>\n",
       "    .dataframe tbody tr th:only-of-type {\n",
       "        vertical-align: middle;\n",
       "    }\n",
       "\n",
       "    .dataframe tbody tr th {\n",
       "        vertical-align: top;\n",
       "    }\n",
       "\n",
       "    .dataframe thead th {\n",
       "        text-align: right;\n",
       "    }\n",
       "</style>\n",
       "<table border=\"1\" class=\"dataframe\">\n",
       "  <thead>\n",
       "    <tr style=\"text-align: right;\">\n",
       "      <th></th>\n",
       "      <th>Experience</th>\n",
       "    </tr>\n",
       "  </thead>\n",
       "  <tbody>\n",
       "    <tr>\n",
       "      <th>count</th>\n",
       "      <td>9540.000000</td>\n",
       "    </tr>\n",
       "    <tr>\n",
       "      <th>mean</th>\n",
       "      <td>2.812479</td>\n",
       "    </tr>\n",
       "    <tr>\n",
       "      <th>std</th>\n",
       "      <td>2.709135</td>\n",
       "    </tr>\n",
       "    <tr>\n",
       "      <th>min</th>\n",
       "      <td>0.000000</td>\n",
       "    </tr>\n",
       "    <tr>\n",
       "      <th>25%</th>\n",
       "      <td>1.000000</td>\n",
       "    </tr>\n",
       "    <tr>\n",
       "      <th>50%</th>\n",
       "      <td>2.000000</td>\n",
       "    </tr>\n",
       "    <tr>\n",
       "      <th>75%</th>\n",
       "      <td>3.500000</td>\n",
       "    </tr>\n",
       "    <tr>\n",
       "      <th>max</th>\n",
       "      <td>21.000000</td>\n",
       "    </tr>\n",
       "  </tbody>\n",
       "</table>\n",
       "</div>"
      ],
      "text/plain": [
       "        Experience\n",
       "count  9540.000000\n",
       "mean      2.812479\n",
       "std       2.709135\n",
       "min       0.000000\n",
       "25%       1.000000\n",
       "50%       2.000000\n",
       "75%       3.500000\n",
       "max      21.000000"
      ]
     },
     "execution_count": 18,
     "metadata": {},
     "output_type": "execute_result"
    }
   ],
   "source": [
    "df.describe()"
   ]
  },
  {
   "cell_type": "code",
   "execution_count": 19,
   "id": "7e100dad",
   "metadata": {},
   "outputs": [
    {
     "data": {
      "text/plain": [
       "Entreprise      17\n",
       "Metier          19\n",
       "Technologies     0\n",
       "Diplome          0\n",
       "Experience      42\n",
       "Ville            0\n",
       "dtype: int64"
      ]
     },
     "execution_count": 19,
     "metadata": {},
     "output_type": "execute_result"
    }
   ],
   "source": [
    "df.isna().sum()"
   ]
  },
  {
   "cell_type": "code",
   "execution_count": 20,
   "id": "bbee910b",
   "metadata": {
    "scrolled": true
   },
   "outputs": [
    {
     "data": {
      "image/png": "[encoded data removed]",
      "text/plain": [
       "<Figure size 640x480 with 1 Axes>"
      ]
     },
     "metadata": {},
     "output_type": "display_data"
    }
   ],
   "source": [
    "# Tracer l'histogramme de la variable 'Experience'\n",
    "plt.hist(df['Experience'], edgecolor='black')\n",
    "\n",
    "# Ajout d'etiquettes et de titre\n",
    "plt.xlabel('Expérience')\n",
    "plt.ylabel('Valeurs')\n",
    "plt.title('Histogramme de experience')\n",
    "\n",
    "# Afficher le graphique\n",
    "plt.show()"
   ]
  },
  {
   "cell_type": "markdown",
   "id": "d7e5fba4",
   "metadata": {},
   "source": [
    "A partir de ce graphique, on dénote suivant la représentation 4 bornes supérieures à savoir : 2, 4, 8 et 22."
   ]
  },
  {
   "cell_type": "code",
   "execution_count": 21,
   "id": "534951d1",
   "metadata": {
    "scrolled": true
   },
   "outputs": [
    {
     "data": {
      "text/html": [
       "<div>\n",
       "<style scoped>\n",
       "    .dataframe tbody tr th:only-of-type {\n",
       "        vertical-align: middle;\n",
       "    }\n",
       "\n",
       "    .dataframe tbody tr th {\n",
       "        vertical-align: top;\n",
       "    }\n",
       "\n",
       "    .dataframe thead th {\n",
       "        text-align: right;\n",
       "    }\n",
       "</style>\n",
       "<table border=\"1\" class=\"dataframe\">\n",
       "  <thead>\n",
       "    <tr style=\"text-align: right;\">\n",
       "      <th></th>\n",
       "      <th>categorie_exp</th>\n",
       "    </tr>\n",
       "  </thead>\n",
       "  <tbody>\n",
       "    <tr>\n",
       "      <th>0</th>\n",
       "      <td>Débutant</td>\n",
       "    </tr>\n",
       "    <tr>\n",
       "      <th>1</th>\n",
       "      <td>Confirmé</td>\n",
       "    </tr>\n",
       "    <tr>\n",
       "      <th>2</th>\n",
       "      <td>Confirmé</td>\n",
       "    </tr>\n",
       "    <tr>\n",
       "      <th>3</th>\n",
       "      <td>Débutant</td>\n",
       "    </tr>\n",
       "    <tr>\n",
       "      <th>4</th>\n",
       "      <td>Confirmé</td>\n",
       "    </tr>\n",
       "    <tr>\n",
       "      <th>...</th>\n",
       "      <td>...</td>\n",
       "    </tr>\n",
       "    <tr>\n",
       "      <th>9577</th>\n",
       "      <td>Débutant</td>\n",
       "    </tr>\n",
       "    <tr>\n",
       "      <th>9578</th>\n",
       "      <td>Expert</td>\n",
       "    </tr>\n",
       "    <tr>\n",
       "      <th>9579</th>\n",
       "      <td>Débutant</td>\n",
       "    </tr>\n",
       "    <tr>\n",
       "      <th>9580</th>\n",
       "      <td>Expert</td>\n",
       "    </tr>\n",
       "    <tr>\n",
       "      <th>9581</th>\n",
       "      <td>Débutant</td>\n",
       "    </tr>\n",
       "  </tbody>\n",
       "</table>\n",
       "<p>9582 rows × 1 columns</p>\n",
       "</div>"
      ],
      "text/plain": [
       "     categorie_exp\n",
       "0         Débutant\n",
       "1         Confirmé\n",
       "2         Confirmé\n",
       "3         Débutant\n",
       "4         Confirmé\n",
       "...            ...\n",
       "9577      Débutant\n",
       "9578        Expert\n",
       "9579      Débutant\n",
       "9580        Expert\n",
       "9581      Débutant\n",
       "\n",
       "[9582 rows x 1 columns]"
      ]
     },
     "execution_count": 21,
     "metadata": {},
     "output_type": "execute_result"
    }
   ],
   "source": [
    "# Création de catégories d'expérience\n",
    "bins = [0, 2, 4, 8, 22]\n",
    "labels = [\"Débutant\", \"Confirmé\", \"Avancé\", \"Expert\"]\n",
    "df['categorie_exp'] = pd.cut(df['Experience'], bins=bins, labels=labels, right=False)\n",
    "df[['categorie_exp']]"
   ]
  },
  {
   "cell_type": "code",
   "execution_count": 22,
   "id": "9eb1b183",
   "metadata": {},
   "outputs": [
    {
     "data": {
      "text/plain": [
       "['Débutant', 'Confirmé', 'Avancé', 'Expert', NaN]\n",
       "Categories (4, object): ['Débutant' < 'Confirmé' < 'Avancé' < 'Expert']"
      ]
     },
     "execution_count": 22,
     "metadata": {},
     "output_type": "execute_result"
    }
   ],
   "source": [
    "df['categorie_exp'].unique()"
   ]
  },
  {
   "cell_type": "markdown",
   "id": "7e26f292",
   "metadata": {},
   "source": [
    "#### 4-3 Analyse comparative du métier selon la catégorie d'experience"
   ]
  },
  {
   "cell_type": "code",
   "execution_count": 23,
   "id": "94e1d21b",
   "metadata": {
    "scrolled": true
   },
   "outputs": [
    {
     "data": {
      "text/plain": [
       "<matplotlib.legend.Legend at 0x1e7d5a15dd0>"
      ]
     },
     "execution_count": 23,
     "metadata": {},
     "output_type": "execute_result"
    },
    {
     "data": {
      "image/png": "[encoded data removed]",
      "text/plain": [
       "<Figure size 640x480 with 1 Axes>"
      ]
     },
     "metadata": {},
     "output_type": "display_data"
    }
   ],
   "source": [
    "cross_tab_prop_cexp = pd.crosstab(index=df['Metier'], columns=df['categorie_exp'], normalize='index')\n",
    "\n",
    "# Définir une liste de quatre couleurs qui vont bien ensemble\n",
    "colors = ['#6a0572', '#ff8c00', '#2b9348', '#005082']\n",
    "\n",
    "# Créer une colormap à partir de la liste de couleurs\n",
    "custom_cmap = ListedColormap(colors)\n",
    "\n",
    "ax = cross_tab_prop_cexp.plot(kind='bar', stacked=True, width=0.8,  cmap= custom_cmap,\n",
    "                        legend=False, ylabel='Proportion', sharey=True)\n",
    "handles, labels = ax.get_legend_handles_labels()\n",
    "ax.legend(handles, labels, loc='upper left', bbox_to_anchor=(1, 1))\n",
    "\n",
    "    "
   ]
  },
  {
   "cell_type": "markdown",
   "id": "42569115",
   "metadata": {},
   "source": [
    "#### 4-4 Identification du top 5 des technologies\n",
    "\n",
    "La variable Technologie contient des valeurs de la forme Technologie1/Technologie2/ .... Il est donc nécessaire, avant toute chose, de récuperer chaque Technologie par du split de manière séquencée. Par la suite on pourra compter le nombre d'occurence de chaque technologie. \n",
    "\n",
    "Il est necessaire de prétraiter la variable \"Technologie\" qui contient des valeurs sous la forme de chaines de caractères avec des technologies multiples séparées par des slashes (par exemple SPSS/R/SAS/Stata ). Pour ce faire une étape cruciale consite à extraire chaque technologie de manière séquentielle en utilisant lopération de fractionnement (split) en fonction de /. Une fois cette opération effectuée, nous pourrons compter le nombre d'occurence de chaque technologie distincte."
   ]
  },
  {
   "cell_type": "code",
   "execution_count": 24,
   "id": "69432fdc",
   "metadata": {
    "scrolled": true
   },
   "outputs": [
    {
     "name": "stdout",
     "output_type": "stream",
     "text": [
      "Le nombre maximal de colonnes créées est :  7\n"
     ]
    }
   ],
   "source": [
    " # Diviser la colonne Technologies en plusieurs colonnes\n",
    "df_technologies = df['Technologies'].str.split('/', expand=True)\n",
    "\n",
    "# Obtenir le nombre maximal de colonnes créées\n",
    "nbre_mac_col = df_technologies.shape[1]\n",
    "\n",
    "print(\"Le nombre maximal de colonnes créées est : \", nbre_mac_col)\n",
    "\n"
   ]
  },
  {
   "cell_type": "code",
   "execution_count": 25,
   "id": "80b556e3",
   "metadata": {
    "scrolled": false
   },
   "outputs": [
    {
     "data": {
      "text/html": [
       "<div>\n",
       "<style scoped>\n",
       "    .dataframe tbody tr th:only-of-type {\n",
       "        vertical-align: middle;\n",
       "    }\n",
       "\n",
       "    .dataframe tbody tr th {\n",
       "        vertical-align: top;\n",
       "    }\n",
       "\n",
       "    .dataframe thead th {\n",
       "        text-align: right;\n",
       "    }\n",
       "</style>\n",
       "<table border=\"1\" class=\"dataframe\">\n",
       "  <thead>\n",
       "    <tr style=\"text-align: right;\">\n",
       "      <th></th>\n",
       "      <th>Entreprise</th>\n",
       "      <th>Metier</th>\n",
       "      <th>Technologies</th>\n",
       "      <th>Diplome</th>\n",
       "      <th>Experience</th>\n",
       "      <th>Ville</th>\n",
       "      <th>categorie_exp</th>\n",
       "      <th>Technologie1</th>\n",
       "      <th>Technologie2</th>\n",
       "      <th>Technologie3</th>\n",
       "      <th>Technologie4</th>\n",
       "      <th>Technologie5</th>\n",
       "      <th>Technologie6</th>\n",
       "      <th>Technologie7</th>\n",
       "    </tr>\n",
       "  </thead>\n",
       "  <tbody>\n",
       "    <tr>\n",
       "      <th>0</th>\n",
       "      <td>Sanofi</td>\n",
       "      <td>Data scientist</td>\n",
       "      <td>Matlab/Python/Pyspark/Scikit-learn/Tensorflow</td>\n",
       "      <td>Master</td>\n",
       "      <td>1.000000</td>\n",
       "      <td>Paris</td>\n",
       "      <td>Débutant</td>\n",
       "      <td>Matlab</td>\n",
       "      <td>Python</td>\n",
       "      <td>Pyspark</td>\n",
       "      <td>Scikit-learn</td>\n",
       "      <td>Tensorflow</td>\n",
       "      <td>None</td>\n",
       "      <td>None</td>\n",
       "    </tr>\n",
       "    <tr>\n",
       "      <th>1</th>\n",
       "      <td>Massachusetts General Hospital(MGH)</td>\n",
       "      <td>Data architecte</td>\n",
       "      <td>Python/Java/Scala/MongoDB</td>\n",
       "      <td>Master</td>\n",
       "      <td>3.000000</td>\n",
       "      <td>Marseille</td>\n",
       "      <td>Confirmé</td>\n",
       "      <td>Python</td>\n",
       "      <td>Java</td>\n",
       "      <td>Scala</td>\n",
       "      <td>MongoDB</td>\n",
       "      <td>None</td>\n",
       "      <td>None</td>\n",
       "      <td>None</td>\n",
       "    </tr>\n",
       "    <tr>\n",
       "      <th>2</th>\n",
       "      <td>Delve</td>\n",
       "      <td>Lead data scientist</td>\n",
       "      <td>SPSS/SQL/Teradata/R/Python/Tensorflow/scikit-l...</td>\n",
       "      <td>Master</td>\n",
       "      <td>3.000000</td>\n",
       "      <td>Nantes</td>\n",
       "      <td>Confirmé</td>\n",
       "      <td>SPSS</td>\n",
       "      <td>SQL</td>\n",
       "      <td>Teradata</td>\n",
       "      <td>R</td>\n",
       "      <td>Python</td>\n",
       "      <td>Tensorflow</td>\n",
       "      <td>scikit-learn</td>\n",
       "    </tr>\n",
       "    <tr>\n",
       "      <th>3</th>\n",
       "      <td>Ann &amp; Robert H. Lurie Children’s Hospital of C...</td>\n",
       "      <td>Data scientist</td>\n",
       "      <td>C/C++/Java/Python</td>\n",
       "      <td>Master</td>\n",
       "      <td>1.500000</td>\n",
       "      <td>Marseille</td>\n",
       "      <td>Débutant</td>\n",
       "      <td>C</td>\n",
       "      <td>C++</td>\n",
       "      <td>Java</td>\n",
       "      <td>Python</td>\n",
       "      <td>None</td>\n",
       "      <td>None</td>\n",
       "      <td>None</td>\n",
       "    </tr>\n",
       "    <tr>\n",
       "      <th>4</th>\n",
       "      <td>Arm</td>\n",
       "      <td>Data scientist</td>\n",
       "      <td>Matlab/Python/C++/numpy/Tensorflow/scikit-learn</td>\n",
       "      <td>Phd</td>\n",
       "      <td>2.814186</td>\n",
       "      <td>Bordeaux</td>\n",
       "      <td>Confirmé</td>\n",
       "      <td>Matlab</td>\n",
       "      <td>Python</td>\n",
       "      <td>C++</td>\n",
       "      <td>numpy</td>\n",
       "      <td>Tensorflow</td>\n",
       "      <td>scikit-learn</td>\n",
       "      <td>None</td>\n",
       "    </tr>\n",
       "  </tbody>\n",
       "</table>\n",
       "</div>"
      ],
      "text/plain": [
       "                                          Entreprise               Metier  \\\n",
       "0                                             Sanofi       Data scientist   \n",
       "1                Massachusetts General Hospital(MGH)      Data architecte   \n",
       "2                                              Delve  Lead data scientist   \n",
       "3  Ann & Robert H. Lurie Children’s Hospital of C...       Data scientist   \n",
       "4                                                Arm       Data scientist   \n",
       "\n",
       "                                        Technologies Diplome  Experience  \\\n",
       "0      Matlab/Python/Pyspark/Scikit-learn/Tensorflow  Master    1.000000   \n",
       "1                          Python/Java/Scala/MongoDB  Master    3.000000   \n",
       "2  SPSS/SQL/Teradata/R/Python/Tensorflow/scikit-l...  Master    3.000000   \n",
       "3                                  C/C++/Java/Python  Master    1.500000   \n",
       "4    Matlab/Python/C++/numpy/Tensorflow/scikit-learn     Phd    2.814186   \n",
       "\n",
       "       Ville categorie_exp Technologie1 Technologie2 Technologie3  \\\n",
       "0      Paris      Débutant       Matlab       Python      Pyspark   \n",
       "1  Marseille      Confirmé       Python         Java        Scala   \n",
       "2     Nantes      Confirmé         SPSS          SQL     Teradata   \n",
       "3  Marseille      Débutant            C          C++         Java   \n",
       "4   Bordeaux      Confirmé       Matlab       Python          C++   \n",
       "\n",
       "   Technologie4 Technologie5  Technologie6  Technologie7  \n",
       "0  Scikit-learn   Tensorflow          None          None  \n",
       "1       MongoDB         None          None          None  \n",
       "2             R       Python    Tensorflow  scikit-learn  \n",
       "3        Python         None          None          None  \n",
       "4         numpy   Tensorflow  scikit-learn          None  "
      ]
     },
     "execution_count": 25,
     "metadata": {},
     "output_type": "execute_result"
    }
   ],
   "source": [
    "# Renommer les colonnes\n",
    "df_technologies.columns = ['Technologie1', 'Technologie2', 'Technologie3', 'Technologie4', 'Technologie5', 'Technologie6', 'Technologie7']\n",
    "\n",
    "# Ajouter les nouvelles colonnes au dataframe d'origine\n",
    "df = pd.concat([df, df_technologies], axis=1)\n",
    "\n",
    "# Afficher df\n",
    "df.head()"
   ]
  },
  {
   "cell_type": "code",
   "execution_count": 26,
   "id": "2ad7d9c9",
   "metadata": {},
   "outputs": [
    {
     "data": {
      "text/plain": [
       "(9582, 14)"
      ]
     },
     "execution_count": 26,
     "metadata": {},
     "output_type": "execute_result"
    }
   ],
   "source": [
    "df.shape"
   ]
  },
  {
   "cell_type": "code",
   "execution_count": 27,
   "id": "da19fb5a",
   "metadata": {
    "scrolled": true
   },
   "outputs": [
    {
     "name": "stdout",
     "output_type": "stream",
     "text": [
      "Valeurs uniques de technologies : ['Matlab' 'Python' 'Pyspark' 'Scikit-learn' 'Tensorflow' 'Java' 'Scala'\n",
      " 'MongoDB' 'SPSS' 'SQL' 'Teradata' 'R' 'scikit-learn' 'C' 'C++' 'numpy'\n",
      " 'VBA' 'Excel' 'PySpark' 'Linux' 'Docker' 'GNU' 'Hadoop' 'Hive' 'MariaDB'\n",
      " 'machine learning' 'Spark' 'AWS' 'Deep learning' 'PostgreSQL'\n",
      " 'Elasticsearch' 'Kibana' 'HDFS' 'Yarn' 'Microsoft Azure' 'Redshift' 'SAS'\n",
      " 'Machine learning' 'Anglais' 'anglais' 'AI' 'Scoring' 'Perl' 'Ruby'\n",
      " 'Pycharm' 'Vertica' 'Tableau' '' 'Big data' 'Kafka' 'ORACLE' 'MySQL'\n",
      " 'Cassandra' 'NoSQL' 'Matplotlib' 'Map-Reduce' 'PIG' 'HBASE' 'Windows'\n",
      " 'NoSQ' 'Hadoop(HDFS)']\n"
     ]
    }
   ],
   "source": [
    "# Obtenez les valeurs uniques en utilisant stack() et unique()\n",
    "unique_technologies = df_technologies.stack().unique()\n",
    "\n",
    "print(\"Valeurs uniques de technologies :\", unique_technologies)"
   ]
  },
  {
   "cell_type": "code",
   "execution_count": 28,
   "id": "e8b8a6ef",
   "metadata": {},
   "outputs": [
    {
     "data": {
      "text/html": [
       "<div>\n",
       "<style scoped>\n",
       "    .dataframe tbody tr th:only-of-type {\n",
       "        vertical-align: middle;\n",
       "    }\n",
       "\n",
       "    .dataframe tbody tr th {\n",
       "        vertical-align: top;\n",
       "    }\n",
       "\n",
       "    .dataframe thead th {\n",
       "        text-align: right;\n",
       "    }\n",
       "</style>\n",
       "<table border=\"1\" class=\"dataframe\">\n",
       "  <thead>\n",
       "    <tr style=\"text-align: right;\">\n",
       "      <th></th>\n",
       "      <th>Technologies</th>\n",
       "      <th>Occurence</th>\n",
       "      <th>Occurence Normalisée</th>\n",
       "    </tr>\n",
       "  </thead>\n",
       "  <tbody>\n",
       "    <tr>\n",
       "      <th>0</th>\n",
       "      <td>Python</td>\n",
       "      <td>6627</td>\n",
       "      <td>69.16%</td>\n",
       "    </tr>\n",
       "    <tr>\n",
       "      <th>1</th>\n",
       "      <td>R</td>\n",
       "      <td>4374</td>\n",
       "      <td>45.65%</td>\n",
       "    </tr>\n",
       "    <tr>\n",
       "      <th>2</th>\n",
       "      <td>SQL</td>\n",
       "      <td>2581</td>\n",
       "      <td>26.94%</td>\n",
       "    </tr>\n",
       "    <tr>\n",
       "      <th>3</th>\n",
       "      <td>Java</td>\n",
       "      <td>1719</td>\n",
       "      <td>17.94%</td>\n",
       "    </tr>\n",
       "    <tr>\n",
       "      <th>4</th>\n",
       "      <td>Hadoop</td>\n",
       "      <td>1589</td>\n",
       "      <td>16.58%</td>\n",
       "    </tr>\n",
       "  </tbody>\n",
       "</table>\n",
       "</div>"
      ],
      "text/plain": [
       "  Technologies  Occurence Occurence Normalisée\n",
       "0       Python       6627               69.16%\n",
       "1            R       4374               45.65%\n",
       "2          SQL       2581               26.94%\n",
       "3         Java       1719               17.94%\n",
       "4       Hadoop       1589               16.58%"
      ]
     },
     "execution_count": 28,
     "metadata": {},
     "output_type": "execute_result"
    }
   ],
   "source": [
    "# Empiler les colonnes pour obtenir une série\n",
    "df_unique_technologies = df_technologies.stack()\n",
    "\n",
    "\n",
    "# Compter les occurrences de chaque technologie\n",
    "df_counts = df_unique_technologies.value_counts().reset_index()\n",
    "df_counts.columns = ['Technologies', 'Occurence']\n",
    "\n",
    "# Trier le DataFrame par compte décroissant\n",
    "df_counts_sorted = df_counts.sort_values(by='Occurence', ascending= False)\n",
    "\n",
    "\n",
    "# Ajouter une nouvelle colonne avec le nombre d'occurrences normalisé\n",
    "df_counts_sorted['Occurence Normalisée'] = df_counts_sorted['Occurence'] / df.shape[0]\n",
    "df_counts_sorted['Occurence Normalisée']= df_counts_sorted['Occurence Normalisée'].map(lambda x: '{:.2%}'.format(x))\n",
    "\n",
    "top_5_technologies = df_counts_sorted.head(5)\n",
    "\n",
    "# Afficher le top 5 des technologies\n",
    "top_5_technologies\n",
    "\n"
   ]
  },
  {
   "cell_type": "code",
   "execution_count": 29,
   "id": "4be42c75",
   "metadata": {
    "scrolled": true
   },
   "outputs": [
    {
     "data": {
      "image/png": "[encoded data removed]",
      "text/plain": [
       "<Figure size 1000x600 with 1 Axes>"
      ]
     },
     "metadata": {},
     "output_type": "display_data"
    }
   ],
   "source": [
    "\n",
    "# Créer un barplot avec Seaborn\n",
    "plt.figure(figsize=(10, 6))\n",
    "barplot= sns.barplot(x='Occurence', y='Technologies', data=top_5_technologies, palette='viridis')\n",
    "\n",
    "\n",
    "# Ajouter un titre et des étiquettes aux axes\n",
    "plt.title('Top 5 des Technologies', fontsize=16)\n",
    "plt.xlabel('Occurence Normalisée', fontsize=12)\n",
    "plt.ylabel('Technologies', fontsize=12)\n",
    "\n",
    "# Afficher le graphique\n",
    "plt.show()\n"
   ]
  },
  {
   "cell_type": "code",
   "execution_count": null,
   "id": "0476975d",
   "metadata": {},
   "outputs": [],
   "source": []
  },
  {
   "cell_type": "code",
   "execution_count": null,
   "id": "df14e4ae",
   "metadata": {},
   "outputs": [],
   "source": []
  },
  {
   "cell_type": "code",
   "execution_count": 30,
   "id": "2bb433a9",
   "metadata": {},
   "outputs": [
    {
     "data": {
      "text/plain": [
       "Index(['Entreprise', 'Metier', 'Technologies', 'Diplome', 'Experience',\n",
       "       'Ville', 'categorie_exp', 'Technologie1', 'Technologie2',\n",
       "       'Technologie3', 'Technologie4', 'Technologie5', 'Technologie6',\n",
       "       'Technologie7'],\n",
       "      dtype='object')"
      ]
     },
     "execution_count": 30,
     "metadata": {},
     "output_type": "execute_result"
    }
   ],
   "source": [
    "df.columns"
   ]
  },
  {
   "cell_type": "code",
   "execution_count": 31,
   "id": "92fd7803",
   "metadata": {},
   "outputs": [
    {
     "name": "stdout",
     "output_type": "stream",
     "text": [
      "Nombre de valeurs uniques pour Entreprise :\n",
      "1382\n",
      "Nombre de valeurs uniques pour Metier :\n",
      "4\n",
      "Nombre de valeurs uniques pour Technologies :\n",
      "57\n",
      "Nombre de valeurs uniques pour Diplome :\n",
      "4\n",
      "Nombre de valeurs uniques pour categorie_exp :\n",
      "4\n",
      "Nombre de valeurs uniques pour Ville :\n",
      "14\n"
     ]
    }
   ],
   "source": [
    "# Compter le nombre de valeurs uniques pour chaque feature sélectionnée\n",
    "features = ['Entreprise', 'Metier', 'Technologies', 'Diplome', 'categorie_exp',\n",
    "       'Ville']\n",
    "\n",
    "for f in features: \n",
    "    print (f\"Nombre de valeurs uniques pour {f} :\")\n",
    "    print (df[f].nunique())\n"
   ]
  },
  {
   "cell_type": "code",
   "execution_count": 32,
   "id": "ce490144",
   "metadata": {},
   "outputs": [
    {
     "data": {
      "text/html": [
       "<div>\n",
       "<style scoped>\n",
       "    .dataframe tbody tr th:only-of-type {\n",
       "        vertical-align: middle;\n",
       "    }\n",
       "\n",
       "    .dataframe tbody tr th {\n",
       "        vertical-align: top;\n",
       "    }\n",
       "\n",
       "    .dataframe thead th {\n",
       "        text-align: right;\n",
       "    }\n",
       "</style>\n",
       "<table border=\"1\" class=\"dataframe\">\n",
       "  <thead>\n",
       "    <tr style=\"text-align: right;\">\n",
       "      <th></th>\n",
       "      <th>Entreprise</th>\n",
       "      <th>Metier</th>\n",
       "      <th>Technologies</th>\n",
       "      <th>Diplome</th>\n",
       "      <th>Experience</th>\n",
       "      <th>Ville</th>\n",
       "      <th>categorie_exp</th>\n",
       "      <th>Technologie1</th>\n",
       "      <th>Technologie2</th>\n",
       "      <th>Technologie3</th>\n",
       "      <th>Technologie4</th>\n",
       "      <th>Technologie5</th>\n",
       "      <th>Technologie6</th>\n",
       "      <th>Technologie7</th>\n",
       "      <th>Python_present</th>\n",
       "      <th>R_present</th>\n",
       "      <th>SQL_present</th>\n",
       "      <th>Java_present</th>\n",
       "      <th>Hadoop_present</th>\n",
       "    </tr>\n",
       "  </thead>\n",
       "  <tbody>\n",
       "    <tr>\n",
       "      <th>0</th>\n",
       "      <td>Sanofi</td>\n",
       "      <td>Data scientist</td>\n",
       "      <td>Matlab/Python/Pyspark/Scikit-learn/Tensorflow</td>\n",
       "      <td>Master</td>\n",
       "      <td>1.000000</td>\n",
       "      <td>Paris</td>\n",
       "      <td>Débutant</td>\n",
       "      <td>Matlab</td>\n",
       "      <td>Python</td>\n",
       "      <td>Pyspark</td>\n",
       "      <td>Scikit-learn</td>\n",
       "      <td>Tensorflow</td>\n",
       "      <td>None</td>\n",
       "      <td>None</td>\n",
       "      <td>1</td>\n",
       "      <td>0</td>\n",
       "      <td>0</td>\n",
       "      <td>0</td>\n",
       "      <td>0</td>\n",
       "    </tr>\n",
       "    <tr>\n",
       "      <th>1</th>\n",
       "      <td>Massachusetts General Hospital(MGH)</td>\n",
       "      <td>Data architecte</td>\n",
       "      <td>Python/Java/Scala/MongoDB</td>\n",
       "      <td>Master</td>\n",
       "      <td>3.000000</td>\n",
       "      <td>Marseille</td>\n",
       "      <td>Confirmé</td>\n",
       "      <td>Python</td>\n",
       "      <td>Java</td>\n",
       "      <td>Scala</td>\n",
       "      <td>MongoDB</td>\n",
       "      <td>None</td>\n",
       "      <td>None</td>\n",
       "      <td>None</td>\n",
       "      <td>1</td>\n",
       "      <td>0</td>\n",
       "      <td>0</td>\n",
       "      <td>1</td>\n",
       "      <td>0</td>\n",
       "    </tr>\n",
       "    <tr>\n",
       "      <th>2</th>\n",
       "      <td>Delve</td>\n",
       "      <td>Lead data scientist</td>\n",
       "      <td>SPSS/SQL/Teradata/R/Python/Tensorflow/scikit-l...</td>\n",
       "      <td>Master</td>\n",
       "      <td>3.000000</td>\n",
       "      <td>Nantes</td>\n",
       "      <td>Confirmé</td>\n",
       "      <td>SPSS</td>\n",
       "      <td>SQL</td>\n",
       "      <td>Teradata</td>\n",
       "      <td>R</td>\n",
       "      <td>Python</td>\n",
       "      <td>Tensorflow</td>\n",
       "      <td>scikit-learn</td>\n",
       "      <td>1</td>\n",
       "      <td>1</td>\n",
       "      <td>1</td>\n",
       "      <td>0</td>\n",
       "      <td>0</td>\n",
       "    </tr>\n",
       "    <tr>\n",
       "      <th>3</th>\n",
       "      <td>Ann &amp; Robert H. Lurie Children’s Hospital of C...</td>\n",
       "      <td>Data scientist</td>\n",
       "      <td>C/C++/Java/Python</td>\n",
       "      <td>Master</td>\n",
       "      <td>1.500000</td>\n",
       "      <td>Marseille</td>\n",
       "      <td>Débutant</td>\n",
       "      <td>C</td>\n",
       "      <td>C++</td>\n",
       "      <td>Java</td>\n",
       "      <td>Python</td>\n",
       "      <td>None</td>\n",
       "      <td>None</td>\n",
       "      <td>None</td>\n",
       "      <td>1</td>\n",
       "      <td>0</td>\n",
       "      <td>0</td>\n",
       "      <td>1</td>\n",
       "      <td>0</td>\n",
       "    </tr>\n",
       "    <tr>\n",
       "      <th>4</th>\n",
       "      <td>Arm</td>\n",
       "      <td>Data scientist</td>\n",
       "      <td>Matlab/Python/C++/numpy/Tensorflow/scikit-learn</td>\n",
       "      <td>Phd</td>\n",
       "      <td>2.814186</td>\n",
       "      <td>Bordeaux</td>\n",
       "      <td>Confirmé</td>\n",
       "      <td>Matlab</td>\n",
       "      <td>Python</td>\n",
       "      <td>C++</td>\n",
       "      <td>numpy</td>\n",
       "      <td>Tensorflow</td>\n",
       "      <td>scikit-learn</td>\n",
       "      <td>None</td>\n",
       "      <td>1</td>\n",
       "      <td>0</td>\n",
       "      <td>0</td>\n",
       "      <td>0</td>\n",
       "      <td>0</td>\n",
       "    </tr>\n",
       "  </tbody>\n",
       "</table>\n",
       "</div>"
      ],
      "text/plain": [
       "                                          Entreprise               Metier  \\\n",
       "0                                             Sanofi       Data scientist   \n",
       "1                Massachusetts General Hospital(MGH)      Data architecte   \n",
       "2                                              Delve  Lead data scientist   \n",
       "3  Ann & Robert H. Lurie Children’s Hospital of C...       Data scientist   \n",
       "4                                                Arm       Data scientist   \n",
       "\n",
       "                                        Technologies Diplome  Experience  \\\n",
       "0      Matlab/Python/Pyspark/Scikit-learn/Tensorflow  Master    1.000000   \n",
       "1                          Python/Java/Scala/MongoDB  Master    3.000000   \n",
       "2  SPSS/SQL/Teradata/R/Python/Tensorflow/scikit-l...  Master    3.000000   \n",
       "3                                  C/C++/Java/Python  Master    1.500000   \n",
       "4    Matlab/Python/C++/numpy/Tensorflow/scikit-learn     Phd    2.814186   \n",
       "\n",
       "       Ville categorie_exp Technologie1 Technologie2 Technologie3  \\\n",
       "0      Paris      Débutant       Matlab       Python      Pyspark   \n",
       "1  Marseille      Confirmé       Python         Java        Scala   \n",
       "2     Nantes      Confirmé         SPSS          SQL     Teradata   \n",
       "3  Marseille      Débutant            C          C++         Java   \n",
       "4   Bordeaux      Confirmé       Matlab       Python          C++   \n",
       "\n",
       "   Technologie4 Technologie5  Technologie6  Technologie7  Python_present  \\\n",
       "0  Scikit-learn   Tensorflow          None          None               1   \n",
       "1       MongoDB         None          None          None               1   \n",
       "2             R       Python    Tensorflow  scikit-learn               1   \n",
       "3        Python         None          None          None               1   \n",
       "4         numpy   Tensorflow  scikit-learn          None               1   \n",
       "\n",
       "   R_present  SQL_present  Java_present  Hadoop_present  \n",
       "0          0            0             0               0  \n",
       "1          0            0             1               0  \n",
       "2          1            1             0               0  \n",
       "3          0            0             1               0  \n",
       "4          0            0             0               0  "
      ]
     },
     "execution_count": 32,
     "metadata": {},
     "output_type": "execute_result"
    }
   ],
   "source": [
    "# Liste des technologies à rechercher\n",
    "technologies_to_search = ['Python', 'R', 'SQL', 'Java', 'Hadoop']\n",
    "\n",
    "# Pour chaque technologie, créer une nouvelle colonne indiquant la présence (1) ou l'absence (0)\n",
    "for tech in technologies_to_search:\n",
    "    df[f'{tech}_present'] = df.apply(lambda row: 1 if tech in row['Technologies'] else 0, axis=1)\n",
    "\n",
    "# Afficher le DataFrame mis à jour\n",
    "df.head()"
   ]
  },
  {
   "cell_type": "code",
   "execution_count": 33,
   "id": "cef014c2",
   "metadata": {
    "scrolled": true
   },
   "outputs": [
    {
     "data": {
      "text/plain": [
       "Index(['Entreprise', 'Metier', 'Technologies', 'Diplome', 'Experience',\n",
       "       'Ville', 'categorie_exp', 'Technologie1', 'Technologie2',\n",
       "       'Technologie3', 'Technologie4', 'Technologie5', 'Technologie6',\n",
       "       'Technologie7', 'Python_present', 'R_present', 'SQL_present',\n",
       "       'Java_present', 'Hadoop_present'],\n",
       "      dtype='object')"
      ]
     },
     "execution_count": 33,
     "metadata": {},
     "output_type": "execute_result"
    }
   ],
   "source": [
    "df.columns"
   ]
  },
  {
   "cell_type": "code",
   "execution_count": 34,
   "id": "b3b36d11",
   "metadata": {},
   "outputs": [
    {
     "data": {
      "text/plain": [
       "(9582, 19)"
      ]
     },
     "execution_count": 34,
     "metadata": {},
     "output_type": "execute_result"
    }
   ],
   "source": [
    "df.shape"
   ]
  },
  {
   "cell_type": "code",
   "execution_count": 35,
   "id": "c75829d2",
   "metadata": {},
   "outputs": [
    {
     "name": "stdout",
     "output_type": "stream",
     "text": [
      "\n",
      "Test du Chi2 pour Entreprise par rapport à Metier:\n",
      "Statistique Chi2 : 3142.9509866107737, p-value : 1.0\n",
      "\n",
      "Test du Chi2 pour Diplome par rapport à Metier:\n",
      "Statistique Chi2 : 1372.2354582667012, p-value : 7.705931060468917e-290\n",
      "\n",
      "Test du Chi2 pour categorie_exp par rapport à Metier:\n",
      "Statistique Chi2 : 847.5008630038014, p-value : 1.2599711433186386e-176\n",
      "\n",
      "Test du Chi2 pour Ville par rapport à Metier:\n",
      "Statistique Chi2 : 52.936264599013484, p-value : 0.0674478699453858\n",
      "\n",
      "Test du Chi2 pour Python_present par rapport à Metier:\n",
      "Statistique Chi2 : 1567.262925693883, p-value : 0.0\n",
      "\n",
      "Test du Chi2 pour R_present par rapport à Metier:\n",
      "Statistique Chi2 : 5609.953178250393, p-value : 0.0\n",
      "\n",
      "Test du Chi2 pour SQL_present par rapport à Metier:\n",
      "Statistique Chi2 : 773.9955870341221, p-value : 1.887396278362818e-167\n",
      "\n",
      "Test du Chi2 pour Java_present par rapport à Metier:\n",
      "Statistique Chi2 : 1222.6851499307945, p-value : 8.774962776033679e-265\n",
      "\n",
      "Test du Chi2 pour Hadoop_present par rapport à Metier:\n",
      "Statistique Chi2 : 822.7760355921679, p-value : 4.972350220374952e-178\n"
     ]
    }
   ],
   "source": [
    "# Liste des noms des variables explicatives qualitatives\n",
    "qualitative_explanatory_variables = ['Entreprise', 'Diplome','categorie_exp',\n",
    "       'Ville', 'Python_present', 'R_present', 'SQL_present',\n",
    "       'Java_present', 'Hadoop_present']\n",
    "\n",
    "\n",
    "\n",
    "# Réglages de la grille\n",
    "sns.set(style=\"whitegrid\")\n",
    "\n",
    "for exp_var in qualitative_explanatory_variables:\n",
    "    # Créer une table de contingence\n",
    "    contingency_table = pd.crosstab(index=df[exp_var], columns=df['Metier'])\n",
    "    \n",
    "    # Effectuer le test du chi2\n",
    "    chi2_stat, p_value, dof, expected = chi2_contingency(contingency_table)\n",
    "    \n",
    "    # Imprimer les résultats du test du chi2\n",
    "    print(f\"\\nTest du Chi2 pour {exp_var} par rapport à Metier:\")\n",
    "    print(f\"Statistique Chi2 : {chi2_stat}, p-value : {p_value}\")"
   ]
  },
  {
   "cell_type": "markdown",
   "id": "e61700bb",
   "metadata": {},
   "source": [
    "La variable \"Entreprise\" n'a aucune relation significative avec notre variable d'interet. La variable \"Ville\" ne définit pas non plus le métier du candidat. Par contre le métier de l'individu dépend de s'il maitrise Python et R surtout puis également de son diplome."
   ]
  },
  {
   "cell_type": "code",
   "execution_count": null,
   "id": "918595e1",
   "metadata": {},
   "outputs": [],
   "source": []
  },
  {
   "cell_type": "code",
   "execution_count": null,
   "id": "03ce53dd",
   "metadata": {},
   "outputs": [],
   "source": []
  },
  {
   "cell_type": "code",
   "execution_count": 36,
   "id": "17ab1732",
   "metadata": {
    "scrolled": true
   },
   "outputs": [
    {
     "name": "stdout",
     "output_type": "stream",
     "text": [
      "(9582, 42)\n"
     ]
    },
    {
     "name": "stderr",
     "output_type": "stream",
     "text": [
      "D:\\Programme\\Lib\\site-packages\\sklearn\\preprocessing\\_encoders.py:972: FutureWarning: `sparse` was renamed to `sparse_output` in version 1.2 and will be removed in 1.4. `sparse_output` is ignored unless you leave `sparse` to its default value.\n",
      "  warnings.warn(\n"
     ]
    }
   ],
   "source": [
    "# Encoder les variables catégorielles avec plus de deux modalités avec OneHot Encoding\n",
    "from sklearn.preprocessing import OneHotEncoder\n",
    "\n",
    "\n",
    "# Initialiser l'encodeur\n",
    "encoder = OneHotEncoder(sparse=False)\n",
    "\n",
    "# Adapter et transformer les données\n",
    "df_encoded = pd.DataFrame(encoder.fit_transform(df[['categorie_exp','Ville','Diplome']]), columns=encoder.get_feature_names_out(['categorie_exp','Ville','Diplome']))\n",
    "\n",
    "# Ajouter les colonnes encodées au dataframe d'origine\n",
    "df = pd.concat([df, df_encoded], axis=1)\n",
    "\n",
    "df.head()\n",
    "\n",
    "print (df.shape)"
   ]
  },
  {
   "cell_type": "code",
   "execution_count": 37,
   "id": "24dc4e10",
   "metadata": {},
   "outputs": [
    {
     "data": {
      "text/plain": [
       "(9540, 42)"
      ]
     },
     "execution_count": 37,
     "metadata": {},
     "output_type": "execute_result"
    }
   ],
   "source": [
    "df = df.dropna(subset=['Experience'])\n",
    "df.shape"
   ]
  },
  {
   "cell_type": "code",
   "execution_count": 38,
   "id": "15879d57",
   "metadata": {
    "scrolled": true
   },
   "outputs": [
    {
     "data": {
      "text/html": [
       "<div>\n",
       "<style scoped>\n",
       "    .dataframe tbody tr th:only-of-type {\n",
       "        vertical-align: middle;\n",
       "    }\n",
       "\n",
       "    .dataframe tbody tr th {\n",
       "        vertical-align: top;\n",
       "    }\n",
       "\n",
       "    .dataframe thead th {\n",
       "        text-align: right;\n",
       "    }\n",
       "</style>\n",
       "<table border=\"1\" class=\"dataframe\">\n",
       "  <thead>\n",
       "    <tr style=\"text-align: right;\">\n",
       "      <th></th>\n",
       "      <th>Entreprise</th>\n",
       "      <th>Metier</th>\n",
       "      <th>Technologies</th>\n",
       "      <th>Diplome</th>\n",
       "      <th>Experience</th>\n",
       "      <th>Ville</th>\n",
       "      <th>categorie_exp</th>\n",
       "      <th>Technologie1</th>\n",
       "      <th>Technologie2</th>\n",
       "      <th>Technologie3</th>\n",
       "      <th>...</th>\n",
       "      <th>Ville_Paris</th>\n",
       "      <th>Ville_Rennes</th>\n",
       "      <th>Ville_Rouen</th>\n",
       "      <th>Ville_Strasbourg</th>\n",
       "      <th>Ville_Toulon</th>\n",
       "      <th>Ville_Toulouse</th>\n",
       "      <th>Diplome_Bachelor</th>\n",
       "      <th>Diplome_Master</th>\n",
       "      <th>Diplome_No diploma</th>\n",
       "      <th>Diplome_Phd</th>\n",
       "    </tr>\n",
       "  </thead>\n",
       "  <tbody>\n",
       "    <tr>\n",
       "      <th>0</th>\n",
       "      <td>Sanofi</td>\n",
       "      <td>Data scientist</td>\n",
       "      <td>Matlab/Python/Pyspark/Scikit-learn/Tensorflow</td>\n",
       "      <td>Master</td>\n",
       "      <td>1.000000</td>\n",
       "      <td>Paris</td>\n",
       "      <td>Débutant</td>\n",
       "      <td>Matlab</td>\n",
       "      <td>Python</td>\n",
       "      <td>Pyspark</td>\n",
       "      <td>...</td>\n",
       "      <td>1.0</td>\n",
       "      <td>0.0</td>\n",
       "      <td>0.0</td>\n",
       "      <td>0.0</td>\n",
       "      <td>0.0</td>\n",
       "      <td>0.0</td>\n",
       "      <td>0.0</td>\n",
       "      <td>1.0</td>\n",
       "      <td>0.0</td>\n",
       "      <td>0.0</td>\n",
       "    </tr>\n",
       "    <tr>\n",
       "      <th>1</th>\n",
       "      <td>Massachusetts General Hospital(MGH)</td>\n",
       "      <td>Data architecte</td>\n",
       "      <td>Python/Java/Scala/MongoDB</td>\n",
       "      <td>Master</td>\n",
       "      <td>3.000000</td>\n",
       "      <td>Marseille</td>\n",
       "      <td>Confirmé</td>\n",
       "      <td>Python</td>\n",
       "      <td>Java</td>\n",
       "      <td>Scala</td>\n",
       "      <td>...</td>\n",
       "      <td>0.0</td>\n",
       "      <td>0.0</td>\n",
       "      <td>0.0</td>\n",
       "      <td>0.0</td>\n",
       "      <td>0.0</td>\n",
       "      <td>0.0</td>\n",
       "      <td>0.0</td>\n",
       "      <td>1.0</td>\n",
       "      <td>0.0</td>\n",
       "      <td>0.0</td>\n",
       "    </tr>\n",
       "    <tr>\n",
       "      <th>2</th>\n",
       "      <td>Delve</td>\n",
       "      <td>Lead data scientist</td>\n",
       "      <td>SPSS/SQL/Teradata/R/Python/Tensorflow/scikit-l...</td>\n",
       "      <td>Master</td>\n",
       "      <td>3.000000</td>\n",
       "      <td>Nantes</td>\n",
       "      <td>Confirmé</td>\n",
       "      <td>SPSS</td>\n",
       "      <td>SQL</td>\n",
       "      <td>Teradata</td>\n",
       "      <td>...</td>\n",
       "      <td>0.0</td>\n",
       "      <td>0.0</td>\n",
       "      <td>0.0</td>\n",
       "      <td>0.0</td>\n",
       "      <td>0.0</td>\n",
       "      <td>0.0</td>\n",
       "      <td>0.0</td>\n",
       "      <td>1.0</td>\n",
       "      <td>0.0</td>\n",
       "      <td>0.0</td>\n",
       "    </tr>\n",
       "    <tr>\n",
       "      <th>3</th>\n",
       "      <td>Ann &amp; Robert H. Lurie Children’s Hospital of C...</td>\n",
       "      <td>Data scientist</td>\n",
       "      <td>C/C++/Java/Python</td>\n",
       "      <td>Master</td>\n",
       "      <td>1.500000</td>\n",
       "      <td>Marseille</td>\n",
       "      <td>Débutant</td>\n",
       "      <td>C</td>\n",
       "      <td>C++</td>\n",
       "      <td>Java</td>\n",
       "      <td>...</td>\n",
       "      <td>0.0</td>\n",
       "      <td>0.0</td>\n",
       "      <td>0.0</td>\n",
       "      <td>0.0</td>\n",
       "      <td>0.0</td>\n",
       "      <td>0.0</td>\n",
       "      <td>0.0</td>\n",
       "      <td>1.0</td>\n",
       "      <td>0.0</td>\n",
       "      <td>0.0</td>\n",
       "    </tr>\n",
       "    <tr>\n",
       "      <th>4</th>\n",
       "      <td>Arm</td>\n",
       "      <td>Data scientist</td>\n",
       "      <td>Matlab/Python/C++/numpy/Tensorflow/scikit-learn</td>\n",
       "      <td>Phd</td>\n",
       "      <td>2.814186</td>\n",
       "      <td>Bordeaux</td>\n",
       "      <td>Confirmé</td>\n",
       "      <td>Matlab</td>\n",
       "      <td>Python</td>\n",
       "      <td>C++</td>\n",
       "      <td>...</td>\n",
       "      <td>0.0</td>\n",
       "      <td>0.0</td>\n",
       "      <td>0.0</td>\n",
       "      <td>0.0</td>\n",
       "      <td>0.0</td>\n",
       "      <td>0.0</td>\n",
       "      <td>0.0</td>\n",
       "      <td>0.0</td>\n",
       "      <td>0.0</td>\n",
       "      <td>1.0</td>\n",
       "    </tr>\n",
       "  </tbody>\n",
       "</table>\n",
       "<p>5 rows × 42 columns</p>\n",
       "</div>"
      ],
      "text/plain": [
       "                                          Entreprise               Metier  \\\n",
       "0                                             Sanofi       Data scientist   \n",
       "1                Massachusetts General Hospital(MGH)      Data architecte   \n",
       "2                                              Delve  Lead data scientist   \n",
       "3  Ann & Robert H. Lurie Children’s Hospital of C...       Data scientist   \n",
       "4                                                Arm       Data scientist   \n",
       "\n",
       "                                        Technologies Diplome  Experience  \\\n",
       "0      Matlab/Python/Pyspark/Scikit-learn/Tensorflow  Master    1.000000   \n",
       "1                          Python/Java/Scala/MongoDB  Master    3.000000   \n",
       "2  SPSS/SQL/Teradata/R/Python/Tensorflow/scikit-l...  Master    3.000000   \n",
       "3                                  C/C++/Java/Python  Master    1.500000   \n",
       "4    Matlab/Python/C++/numpy/Tensorflow/scikit-learn     Phd    2.814186   \n",
       "\n",
       "       Ville categorie_exp Technologie1 Technologie2 Technologie3  ...  \\\n",
       "0      Paris      Débutant       Matlab       Python      Pyspark  ...   \n",
       "1  Marseille      Confirmé       Python         Java        Scala  ...   \n",
       "2     Nantes      Confirmé         SPSS          SQL     Teradata  ...   \n",
       "3  Marseille      Débutant            C          C++         Java  ...   \n",
       "4   Bordeaux      Confirmé       Matlab       Python          C++  ...   \n",
       "\n",
       "  Ville_Paris Ville_Rennes Ville_Rouen Ville_Strasbourg  Ville_Toulon  \\\n",
       "0         1.0          0.0         0.0              0.0           0.0   \n",
       "1         0.0          0.0         0.0              0.0           0.0   \n",
       "2         0.0          0.0         0.0              0.0           0.0   \n",
       "3         0.0          0.0         0.0              0.0           0.0   \n",
       "4         0.0          0.0         0.0              0.0           0.0   \n",
       "\n",
       "   Ville_Toulouse  Diplome_Bachelor  Diplome_Master  Diplome_No diploma  \\\n",
       "0             0.0               0.0             1.0                 0.0   \n",
       "1             0.0               0.0             1.0                 0.0   \n",
       "2             0.0               0.0             1.0                 0.0   \n",
       "3             0.0               0.0             1.0                 0.0   \n",
       "4             0.0               0.0             0.0                 0.0   \n",
       "\n",
       "   Diplome_Phd  \n",
       "0          0.0  \n",
       "1          0.0  \n",
       "2          0.0  \n",
       "3          0.0  \n",
       "4          1.0  \n",
       "\n",
       "[5 rows x 42 columns]"
      ]
     },
     "execution_count": 38,
     "metadata": {},
     "output_type": "execute_result"
    }
   ],
   "source": [
    "df.head()"
   ]
  },
  {
   "cell_type": "code",
   "execution_count": null,
   "id": "bc8f323c",
   "metadata": {},
   "outputs": [],
   "source": []
  },
  {
   "cell_type": "code",
   "execution_count": null,
   "id": "67d9bb0f",
   "metadata": {},
   "outputs": [],
   "source": []
  },
  {
   "cell_type": "markdown",
   "id": "2edd8a39",
   "metadata": {},
   "source": [
    "## 5- Clustering : classification non supervisée"
   ]
  },
  {
   "cell_type": "code",
   "execution_count": 39,
   "id": "fafa91eb",
   "metadata": {},
   "outputs": [
    {
     "name": "stdout",
     "output_type": "stream",
     "text": [
      "(9540, 41)\n"
     ]
    }
   ],
   "source": [
    "cluster_data = df.drop(columns= 'Metier')\n",
    "cluster_data.head()\n",
    "print(cluster_data.shape)"
   ]
  },
  {
   "cell_type": "code",
   "execution_count": 40,
   "id": "2106c139",
   "metadata": {},
   "outputs": [],
   "source": [
    "cluster_data_copy = cluster_data.copy()"
   ]
  },
  {
   "cell_type": "code",
   "execution_count": 41,
   "id": "49e61a65",
   "metadata": {},
   "outputs": [
    {
     "data": {
      "text/html": [
       "<div>\n",
       "<style scoped>\n",
       "    .dataframe tbody tr th:only-of-type {\n",
       "        vertical-align: middle;\n",
       "    }\n",
       "\n",
       "    .dataframe tbody tr th {\n",
       "        vertical-align: top;\n",
       "    }\n",
       "\n",
       "    .dataframe thead th {\n",
       "        text-align: right;\n",
       "    }\n",
       "</style>\n",
       "<table border=\"1\" class=\"dataframe\">\n",
       "  <thead>\n",
       "    <tr style=\"text-align: right;\">\n",
       "      <th></th>\n",
       "      <th>categorie_exp</th>\n",
       "      <th>Diplome</th>\n",
       "      <th>Ville</th>\n",
       "      <th>Python_present</th>\n",
       "      <th>R_present</th>\n",
       "      <th>SQL_present</th>\n",
       "      <th>Java_present</th>\n",
       "      <th>Hadoop_present</th>\n",
       "    </tr>\n",
       "  </thead>\n",
       "  <tbody>\n",
       "    <tr>\n",
       "      <th>0</th>\n",
       "      <td>Débutant</td>\n",
       "      <td>Master</td>\n",
       "      <td>Paris</td>\n",
       "      <td>1</td>\n",
       "      <td>0</td>\n",
       "      <td>0</td>\n",
       "      <td>0</td>\n",
       "      <td>0</td>\n",
       "    </tr>\n",
       "    <tr>\n",
       "      <th>1</th>\n",
       "      <td>Confirmé</td>\n",
       "      <td>Master</td>\n",
       "      <td>Marseille</td>\n",
       "      <td>1</td>\n",
       "      <td>0</td>\n",
       "      <td>0</td>\n",
       "      <td>1</td>\n",
       "      <td>0</td>\n",
       "    </tr>\n",
       "    <tr>\n",
       "      <th>2</th>\n",
       "      <td>Confirmé</td>\n",
       "      <td>Master</td>\n",
       "      <td>Nantes</td>\n",
       "      <td>1</td>\n",
       "      <td>1</td>\n",
       "      <td>1</td>\n",
       "      <td>0</td>\n",
       "      <td>0</td>\n",
       "    </tr>\n",
       "    <tr>\n",
       "      <th>3</th>\n",
       "      <td>Débutant</td>\n",
       "      <td>Master</td>\n",
       "      <td>Marseille</td>\n",
       "      <td>1</td>\n",
       "      <td>0</td>\n",
       "      <td>0</td>\n",
       "      <td>1</td>\n",
       "      <td>0</td>\n",
       "    </tr>\n",
       "    <tr>\n",
       "      <th>4</th>\n",
       "      <td>Confirmé</td>\n",
       "      <td>Phd</td>\n",
       "      <td>Bordeaux</td>\n",
       "      <td>1</td>\n",
       "      <td>0</td>\n",
       "      <td>0</td>\n",
       "      <td>0</td>\n",
       "      <td>0</td>\n",
       "    </tr>\n",
       "  </tbody>\n",
       "</table>\n",
       "</div>"
      ],
      "text/plain": [
       "  categorie_exp Diplome      Ville  Python_present  R_present  SQL_present  \\\n",
       "0      Débutant  Master      Paris               1          0            0   \n",
       "1      Confirmé  Master  Marseille               1          0            0   \n",
       "2      Confirmé  Master     Nantes               1          1            1   \n",
       "3      Débutant  Master  Marseille               1          0            0   \n",
       "4      Confirmé     Phd   Bordeaux               1          0            0   \n",
       "\n",
       "   Java_present  Hadoop_present  \n",
       "0             0               0  \n",
       "1             1               0  \n",
       "2             0               0  \n",
       "3             1               0  \n",
       "4             0               0  "
      ]
     },
     "execution_count": 41,
     "metadata": {},
     "output_type": "execute_result"
    }
   ],
   "source": [
    "cluster_data = cluster_data[['categorie_exp','Diplome','Ville','Python_present', 'R_present', 'SQL_present', 'Java_present', 'Hadoop_present']]\n",
    "cluster_data.head()"
   ]
  },
  {
   "cell_type": "code",
   "execution_count": 42,
   "id": "183afd61",
   "metadata": {},
   "outputs": [
    {
     "data": {
      "text/html": [
       "<div>\n",
       "<style scoped>\n",
       "    .dataframe tbody tr th:only-of-type {\n",
       "        vertical-align: middle;\n",
       "    }\n",
       "\n",
       "    .dataframe tbody tr th {\n",
       "        vertical-align: top;\n",
       "    }\n",
       "\n",
       "    .dataframe thead th {\n",
       "        text-align: right;\n",
       "    }\n",
       "</style>\n",
       "<table border=\"1\" class=\"dataframe\">\n",
       "  <thead>\n",
       "    <tr style=\"text-align: right;\">\n",
       "      <th></th>\n",
       "      <th>categorie_exp</th>\n",
       "      <th>Diplome</th>\n",
       "      <th>Ville</th>\n",
       "      <th>Python_present</th>\n",
       "      <th>R_present</th>\n",
       "      <th>SQL_present</th>\n",
       "      <th>Java_present</th>\n",
       "      <th>Hadoop_present</th>\n",
       "    </tr>\n",
       "  </thead>\n",
       "  <tbody>\n",
       "    <tr>\n",
       "      <th>0</th>\n",
       "      <td>2</td>\n",
       "      <td>1</td>\n",
       "      <td>8</td>\n",
       "      <td>1</td>\n",
       "      <td>0</td>\n",
       "      <td>0</td>\n",
       "      <td>0</td>\n",
       "      <td>0</td>\n",
       "    </tr>\n",
       "    <tr>\n",
       "      <th>1</th>\n",
       "      <td>1</td>\n",
       "      <td>1</td>\n",
       "      <td>4</td>\n",
       "      <td>1</td>\n",
       "      <td>0</td>\n",
       "      <td>0</td>\n",
       "      <td>1</td>\n",
       "      <td>0</td>\n",
       "    </tr>\n",
       "    <tr>\n",
       "      <th>2</th>\n",
       "      <td>1</td>\n",
       "      <td>1</td>\n",
       "      <td>6</td>\n",
       "      <td>1</td>\n",
       "      <td>1</td>\n",
       "      <td>1</td>\n",
       "      <td>0</td>\n",
       "      <td>0</td>\n",
       "    </tr>\n",
       "    <tr>\n",
       "      <th>3</th>\n",
       "      <td>2</td>\n",
       "      <td>1</td>\n",
       "      <td>4</td>\n",
       "      <td>1</td>\n",
       "      <td>0</td>\n",
       "      <td>0</td>\n",
       "      <td>1</td>\n",
       "      <td>0</td>\n",
       "    </tr>\n",
       "    <tr>\n",
       "      <th>4</th>\n",
       "      <td>1</td>\n",
       "      <td>3</td>\n",
       "      <td>0</td>\n",
       "      <td>1</td>\n",
       "      <td>0</td>\n",
       "      <td>0</td>\n",
       "      <td>0</td>\n",
       "      <td>0</td>\n",
       "    </tr>\n",
       "  </tbody>\n",
       "</table>\n",
       "</div>"
      ],
      "text/plain": [
       "   categorie_exp  Diplome  Ville  Python_present  R_present  SQL_present  \\\n",
       "0              2        1      8               1          0            0   \n",
       "1              1        1      4               1          0            0   \n",
       "2              1        1      6               1          1            1   \n",
       "3              2        1      4               1          0            0   \n",
       "4              1        3      0               1          0            0   \n",
       "\n",
       "   Java_present  Hadoop_present  \n",
       "0             0               0  \n",
       "1             1               0  \n",
       "2             0               0  \n",
       "3             1               0  \n",
       "4             0               0  "
      ]
     },
     "execution_count": 42,
     "metadata": {},
     "output_type": "execute_result"
    }
   ],
   "source": [
    "from sklearn import preprocessing\n",
    "le = preprocessing.LabelEncoder()\n",
    "cluster_data = cluster_data.apply(le.fit_transform)\n",
    "cluster_data.head()"
   ]
  },
  {
   "cell_type": "code",
   "execution_count": 43,
   "id": "3f27c007",
   "metadata": {},
   "outputs": [
    {
     "name": "stdout",
     "output_type": "stream",
     "text": [
      "Init: initializing centroids\n",
      "Init: initializing clusters\n",
      "Starting iterations...\n",
      "Run 1, iteration: 1/100, moves: 0, cost: 31925.0\n",
      "Init: initializing centroids\n",
      "Init: initializing clusters\n",
      "Starting iterations...\n",
      "Run 1, iteration: 1/100, moves: 103, cost: 28758.0\n",
      "Init: initializing centroids\n",
      "Init: initializing clusters\n",
      "Starting iterations...\n",
      "Run 1, iteration: 1/100, moves: 1305, cost: 24027.0\n",
      "Init: initializing centroids\n",
      "Init: initializing clusters\n",
      "Starting iterations...\n",
      "Run 1, iteration: 1/100, moves: 2817, cost: 22684.0\n",
      "Init: initializing centroids\n",
      "Init: initializing clusters\n",
      "Starting iterations...\n",
      "Run 1, iteration: 1/100, moves: 2764, cost: 21785.0\n",
      "Run 1, iteration: 2/100, moves: 42, cost: 21785.0\n",
      "Init: initializing centroids\n",
      "Init: initializing clusters\n",
      "Starting iterations...\n",
      "Run 1, iteration: 1/100, moves: 2375, cost: 21870.0\n"
     ]
    }
   ],
   "source": [
    "cost = []\n",
    "for num_clusters in list(range(1,7)):\n",
    "    kmode = KModes(n_clusters=num_clusters, init = \"Huang\", n_init = 1, verbose=1)\n",
    "    kmode.fit_predict(cluster_data)\n",
    "    cost.append(kmode.cost_)"
   ]
  },
  {
   "cell_type": "code",
   "execution_count": 44,
   "id": "e6ce9d23",
   "metadata": {},
   "outputs": [
    {
     "data": {
      "text/plain": [
       "[<matplotlib.lines.Line2D at 0x1e7d603e990>]"
      ]
     },
     "execution_count": 44,
     "metadata": {},
     "output_type": "execute_result"
    },
    {
     "data": {
      "image/png": "[encoded data removed]",
      "text/plain": [
       "<Figure size 640x480 with 1 Axes>"
      ]
     },
     "metadata": {},
     "output_type": "display_data"
    }
   ],
   "source": [
    "y = np.array([i for i in range(1,7,1)])\n",
    "plt.plot(y,cost)"
   ]
  },
  {
   "cell_type": "code",
   "execution_count": 45,
   "id": "0dc75672",
   "metadata": {},
   "outputs": [
    {
     "name": "stdout",
     "output_type": "stream",
     "text": [
      "Init: initializing centroids\n",
      "Init: initializing clusters\n",
      "Starting iterations...\n",
      "Run 1, iteration: 1/100, moves: 1482, cost: 26591.0\n"
     ]
    }
   ],
   "source": [
    "kmode_hg = KModes(n_clusters=2, init = \"Huang\", n_init = 1, verbose=1)\n",
    "fitcluster_hg = kmode_hg.fit_predict(cluster_data)"
   ]
  },
  {
   "cell_type": "code",
   "execution_count": 46,
   "id": "761350b9",
   "metadata": {},
   "outputs": [],
   "source": [
    "cluster_data = cluster_data_copy.reset_index()\n",
    "clustersDf = pd.DataFrame(fitcluster_hg)\n",
    "clustersDf.columns = ['cluster_predicted']\n",
    "combinedDf = pd.concat([cluster_data, clustersDf], axis = 1).reset_index()\n"
   ]
  },
  {
   "cell_type": "code",
   "execution_count": 47,
   "id": "186cc6a6",
   "metadata": {},
   "outputs": [
    {
     "data": {
      "text/html": [
       "<div>\n",
       "<style scoped>\n",
       "    .dataframe tbody tr th:only-of-type {\n",
       "        vertical-align: middle;\n",
       "    }\n",
       "\n",
       "    .dataframe tbody tr th {\n",
       "        vertical-align: top;\n",
       "    }\n",
       "\n",
       "    .dataframe thead th {\n",
       "        text-align: right;\n",
       "    }\n",
       "</style>\n",
       "<table border=\"1\" class=\"dataframe\">\n",
       "  <thead>\n",
       "    <tr style=\"text-align: right;\">\n",
       "      <th></th>\n",
       "      <th>cluster_predicted</th>\n",
       "      <th>Metier</th>\n",
       "    </tr>\n",
       "  </thead>\n",
       "  <tbody>\n",
       "    <tr>\n",
       "      <th>0</th>\n",
       "      <td>0</td>\n",
       "      <td>Data scientist</td>\n",
       "    </tr>\n",
       "    <tr>\n",
       "      <th>1</th>\n",
       "      <td>0</td>\n",
       "      <td>Data architecte</td>\n",
       "    </tr>\n",
       "    <tr>\n",
       "      <th>2</th>\n",
       "      <td>1</td>\n",
       "      <td>Lead data scientist</td>\n",
       "    </tr>\n",
       "    <tr>\n",
       "      <th>3</th>\n",
       "      <td>0</td>\n",
       "      <td>Data scientist</td>\n",
       "    </tr>\n",
       "    <tr>\n",
       "      <th>4</th>\n",
       "      <td>0</td>\n",
       "      <td>Data scientist</td>\n",
       "    </tr>\n",
       "  </tbody>\n",
       "</table>\n",
       "</div>"
      ],
      "text/plain": [
       "   cluster_predicted               Metier\n",
       "0                  0       Data scientist\n",
       "1                  0      Data architecte\n",
       "2                  1  Lead data scientist\n",
       "3                  0       Data scientist\n",
       "4                  0       Data scientist"
      ]
     },
     "execution_count": 47,
     "metadata": {},
     "output_type": "execute_result"
    }
   ],
   "source": [
    "combinedDf['Metier'] = df['Metier']\n",
    "combinedDf[['cluster_predicted','Metier']].head()"
   ]
  },
  {
   "cell_type": "code",
   "execution_count": 74,
   "id": "2b8a8de8",
   "metadata": {},
   "outputs": [
    {
     "data": {
      "text/html": [
       "<div>\n",
       "<style scoped>\n",
       "    .dataframe tbody tr th:only-of-type {\n",
       "        vertical-align: middle;\n",
       "    }\n",
       "\n",
       "    .dataframe tbody tr th {\n",
       "        vertical-align: top;\n",
       "    }\n",
       "\n",
       "    .dataframe thead th {\n",
       "        text-align: right;\n",
       "    }\n",
       "</style>\n",
       "<table border=\"1\" class=\"dataframe\">\n",
       "  <thead>\n",
       "    <tr style=\"text-align: right;\">\n",
       "      <th>Metier</th>\n",
       "      <th>Data architecte</th>\n",
       "      <th>Data engineer</th>\n",
       "      <th>Data scientist</th>\n",
       "      <th>Lead data scientist</th>\n",
       "    </tr>\n",
       "    <tr>\n",
       "      <th>cluster_predicted</th>\n",
       "      <th></th>\n",
       "      <th></th>\n",
       "      <th></th>\n",
       "      <th></th>\n",
       "    </tr>\n",
       "  </thead>\n",
       "  <tbody>\n",
       "    <tr>\n",
       "      <th>0</th>\n",
       "      <td>0.659037</td>\n",
       "      <td>0.657669</td>\n",
       "      <td>0.643675</td>\n",
       "      <td>0.655887</td>\n",
       "    </tr>\n",
       "    <tr>\n",
       "      <th>1</th>\n",
       "      <td>0.340963</td>\n",
       "      <td>0.342331</td>\n",
       "      <td>0.356325</td>\n",
       "      <td>0.344113</td>\n",
       "    </tr>\n",
       "  </tbody>\n",
       "</table>\n",
       "</div>"
      ],
      "text/plain": [
       "Metier             Data architecte  Data engineer  Data scientist  \\\n",
       "cluster_predicted                                                   \n",
       "0                         0.659037       0.657669        0.643675   \n",
       "1                         0.340963       0.342331        0.356325   \n",
       "\n",
       "Metier             Lead data scientist  \n",
       "cluster_predicted                       \n",
       "0                             0.655887  \n",
       "1                             0.344113  "
      ]
     },
     "execution_count": 74,
     "metadata": {},
     "output_type": "execute_result"
    }
   ],
   "source": [
    "contingency_table = pd.crosstab(index=combinedDf[\"cluster_predicted\"], columns=combinedDf['Metier'], normalize= 'columns')\n",
    "contingency_table"
   ]
  },
  {
   "cell_type": "code",
   "execution_count": 73,
   "id": "ba28c4a4",
   "metadata": {},
   "outputs": [
    {
     "data": {
      "text/html": [
       "<div>\n",
       "<style scoped>\n",
       "    .dataframe tbody tr th:only-of-type {\n",
       "        vertical-align: middle;\n",
       "    }\n",
       "\n",
       "    .dataframe tbody tr th {\n",
       "        vertical-align: top;\n",
       "    }\n",
       "\n",
       "    .dataframe thead th {\n",
       "        text-align: right;\n",
       "    }\n",
       "</style>\n",
       "<table border=\"1\" class=\"dataframe\">\n",
       "  <thead>\n",
       "    <tr style=\"text-align: right;\">\n",
       "      <th>Diplome</th>\n",
       "      <th>Bachelor</th>\n",
       "      <th>Master</th>\n",
       "      <th>No diploma</th>\n",
       "      <th>Phd</th>\n",
       "    </tr>\n",
       "    <tr>\n",
       "      <th>cluster_predicted</th>\n",
       "      <th></th>\n",
       "      <th></th>\n",
       "      <th></th>\n",
       "      <th></th>\n",
       "    </tr>\n",
       "  </thead>\n",
       "  <tbody>\n",
       "    <tr>\n",
       "      <th>0</th>\n",
       "      <td>0.66907</td>\n",
       "      <td>0.649485</td>\n",
       "      <td>0.839286</td>\n",
       "      <td>0.567436</td>\n",
       "    </tr>\n",
       "    <tr>\n",
       "      <th>1</th>\n",
       "      <td>0.33093</td>\n",
       "      <td>0.350515</td>\n",
       "      <td>0.160714</td>\n",
       "      <td>0.432564</td>\n",
       "    </tr>\n",
       "  </tbody>\n",
       "</table>\n",
       "</div>"
      ],
      "text/plain": [
       "Diplome            Bachelor    Master  No diploma       Phd\n",
       "cluster_predicted                                          \n",
       "0                   0.66907  0.649485    0.839286  0.567436\n",
       "1                   0.33093  0.350515    0.160714  0.432564"
      ]
     },
     "execution_count": 73,
     "metadata": {},
     "output_type": "execute_result"
    }
   ],
   "source": [
    "contingency_table = pd.crosstab(index=combinedDf[\"cluster_predicted\"], columns=combinedDf['Diplome'], normalize= 'columns')\n",
    "contingency_table"
   ]
  },
  {
   "cell_type": "code",
   "execution_count": null,
   "id": "1764e29f",
   "metadata": {},
   "outputs": [],
   "source": [
    "contingency_table = pd.crosstab(index=combinedDf[\"cluster_predicted\"], columns=combinedDf['Diplome'], normalize= 'columns')\n",
    "contingency_table"
   ]
  },
  {
   "cell_type": "code",
   "execution_count": 75,
   "id": "18793a9e",
   "metadata": {},
   "outputs": [
    {
     "data": {
      "image/png": "[encoded data removed]",
      "text/plain": [
       "<Figure size 640x480 with 1 Axes>"
      ]
     },
     "metadata": {},
     "output_type": "display_data"
    }
   ],
   "source": [
    "# Visualisation des clusters\n",
    "sns.countplot(x='cluster_predicted', data=combinedDf)\n",
    "plt.title('Répartition des clusters')\n",
    "plt.show()\n",
    "\n"
   ]
  },
  {
   "cell_type": "markdown",
   "id": "3779c7c3",
   "metadata": {},
   "source": [
    "## 6- Prediction des metiers manquants dans la base de données par Random Forest"
   ]
  },
  {
   "cell_type": "markdown",
   "id": "71d5f2c3",
   "metadata": {},
   "source": [
    "#### 6-1 Construction du modèle"
   ]
  },
  {
   "cell_type": "code",
   "execution_count": 49,
   "id": "743c8bc1",
   "metadata": {},
   "outputs": [
    {
     "data": {
      "text/plain": [
       "(9521, 42)"
      ]
     },
     "execution_count": 49,
     "metadata": {},
     "output_type": "execute_result"
    }
   ],
   "source": [
    "# Filtrez les NaN dans 'Metier'\n",
    "data = df.dropna(subset=['Metier'])\n",
    "data.shape\n"
   ]
  },
  {
   "cell_type": "code",
   "execution_count": 50,
   "id": "c9955583",
   "metadata": {
    "scrolled": false
   },
   "outputs": [
    {
     "data": {
      "text/plain": [
       "Entreprise                  17\n",
       "Metier                       0\n",
       "Technologies                 0\n",
       "Diplome                      0\n",
       "Experience                   0\n",
       "Ville                        0\n",
       "categorie_exp                0\n",
       "Technologie1                 0\n",
       "Technologie2                 0\n",
       "Technologie3               220\n",
       "Technologie4              1610\n",
       "Technologie5              4988\n",
       "Technologie6              7692\n",
       "Technologie7              8713\n",
       "Python_present               0\n",
       "R_present                    0\n",
       "SQL_present                  0\n",
       "Java_present                 0\n",
       "Hadoop_present               0\n",
       "categorie_exp_Avancé         0\n",
       "categorie_exp_Confirmé       0\n",
       "categorie_exp_Débutant       0\n",
       "categorie_exp_Expert         0\n",
       "categorie_exp_nan            0\n",
       "Ville_Bordeaux               0\n",
       "Ville_Grenoble               0\n",
       "Ville_Lille                  0\n",
       "Ville_Lyon                   0\n",
       "Ville_Marseille              0\n",
       "Ville_Montpellier            0\n",
       "Ville_Nantes                 0\n",
       "Ville_Nice                   0\n",
       "Ville_Paris                  0\n",
       "Ville_Rennes                 0\n",
       "Ville_Rouen                  0\n",
       "Ville_Strasbourg             0\n",
       "Ville_Toulon                 0\n",
       "Ville_Toulouse               0\n",
       "Diplome_Bachelor             0\n",
       "Diplome_Master               0\n",
       "Diplome_No diploma           0\n",
       "Diplome_Phd                  0\n",
       "dtype: int64"
      ]
     },
     "execution_count": 50,
     "metadata": {},
     "output_type": "execute_result"
    }
   ],
   "source": [
    "# Nombre de valeurs manquantes par variables\n",
    "data.isna().sum()"
   ]
  },
  {
   "cell_type": "code",
   "execution_count": 51,
   "id": "6ff06519",
   "metadata": {},
   "outputs": [
    {
     "name": "stderr",
     "output_type": "stream",
     "text": [
      "C:\\Users\\VODOUMBO Miracle\\AppData\\Local\\Temp\\ipykernel_20596\\2331781406.py:2: SettingWithCopyWarning: \n",
      "A value is trying to be set on a copy of a slice from a DataFrame\n",
      "\n",
      "See the caveats in the documentation: https://pandas.pydata.org/pandas-docs/stable/user_guide/indexing.html#returning-a-view-versus-a-copy\n",
      "  data.drop ( columns = ['categorie_exp_nan','categorie_exp','Ville','Diplome', 'Entreprise','Technologies','Experience', 'Technologie1', 'Technologie2', 'Technologie3', 'Technologie4', 'Technologie5', 'Technologie6', 'Technologie7'], inplace = True)\n"
     ]
    }
   ],
   "source": [
    "# Supprimer des variables qui ne compteront pas dans le modèle\n",
    "data.drop ( columns = ['categorie_exp_nan','categorie_exp','Ville','Diplome', 'Entreprise','Technologies','Experience', 'Technologie1', 'Technologie2', 'Technologie3', 'Technologie4', 'Technologie5', 'Technologie6', 'Technologie7'], inplace = True)"
   ]
  },
  {
   "cell_type": "code",
   "execution_count": 52,
   "id": "ca13fbc4",
   "metadata": {},
   "outputs": [
    {
     "name": "stderr",
     "output_type": "stream",
     "text": [
      "C:\\Users\\VODOUMBO Miracle\\AppData\\Local\\Temp\\ipykernel_20596\\279696386.py:3: SettingWithCopyWarning: \n",
      "A value is trying to be set on a copy of a slice from a DataFrame.\n",
      "Try using .loc[row_indexer,col_indexer] = value instead\n",
      "\n",
      "See the caveats in the documentation: https://pandas.pydata.org/pandas-docs/stable/user_guide/indexing.html#returning-a-view-versus-a-copy\n",
      "  data['Metier'] = label_encoder.fit_transform(data['Metier'])\n"
     ]
    },
    {
     "data": {
      "text/html": [
       "<div>\n",
       "<style scoped>\n",
       "    .dataframe tbody tr th:only-of-type {\n",
       "        vertical-align: middle;\n",
       "    }\n",
       "\n",
       "    .dataframe tbody tr th {\n",
       "        vertical-align: top;\n",
       "    }\n",
       "\n",
       "    .dataframe thead th {\n",
       "        text-align: right;\n",
       "    }\n",
       "</style>\n",
       "<table border=\"1\" class=\"dataframe\">\n",
       "  <thead>\n",
       "    <tr style=\"text-align: right;\">\n",
       "      <th></th>\n",
       "      <th>Metier</th>\n",
       "      <th>Python_present</th>\n",
       "      <th>R_present</th>\n",
       "      <th>SQL_present</th>\n",
       "      <th>Java_present</th>\n",
       "      <th>Hadoop_present</th>\n",
       "      <th>categorie_exp_Avancé</th>\n",
       "      <th>categorie_exp_Confirmé</th>\n",
       "      <th>categorie_exp_Débutant</th>\n",
       "      <th>categorie_exp_Expert</th>\n",
       "      <th>...</th>\n",
       "      <th>Ville_Paris</th>\n",
       "      <th>Ville_Rennes</th>\n",
       "      <th>Ville_Rouen</th>\n",
       "      <th>Ville_Strasbourg</th>\n",
       "      <th>Ville_Toulon</th>\n",
       "      <th>Ville_Toulouse</th>\n",
       "      <th>Diplome_Bachelor</th>\n",
       "      <th>Diplome_Master</th>\n",
       "      <th>Diplome_No diploma</th>\n",
       "      <th>Diplome_Phd</th>\n",
       "    </tr>\n",
       "  </thead>\n",
       "  <tbody>\n",
       "    <tr>\n",
       "      <th>0</th>\n",
       "      <td>2</td>\n",
       "      <td>1</td>\n",
       "      <td>0</td>\n",
       "      <td>0</td>\n",
       "      <td>0</td>\n",
       "      <td>0</td>\n",
       "      <td>0.0</td>\n",
       "      <td>0.0</td>\n",
       "      <td>1.0</td>\n",
       "      <td>0.0</td>\n",
       "      <td>...</td>\n",
       "      <td>1.0</td>\n",
       "      <td>0.0</td>\n",
       "      <td>0.0</td>\n",
       "      <td>0.0</td>\n",
       "      <td>0.0</td>\n",
       "      <td>0.0</td>\n",
       "      <td>0.0</td>\n",
       "      <td>1.0</td>\n",
       "      <td>0.0</td>\n",
       "      <td>0.0</td>\n",
       "    </tr>\n",
       "    <tr>\n",
       "      <th>1</th>\n",
       "      <td>0</td>\n",
       "      <td>1</td>\n",
       "      <td>0</td>\n",
       "      <td>0</td>\n",
       "      <td>1</td>\n",
       "      <td>0</td>\n",
       "      <td>0.0</td>\n",
       "      <td>1.0</td>\n",
       "      <td>0.0</td>\n",
       "      <td>0.0</td>\n",
       "      <td>...</td>\n",
       "      <td>0.0</td>\n",
       "      <td>0.0</td>\n",
       "      <td>0.0</td>\n",
       "      <td>0.0</td>\n",
       "      <td>0.0</td>\n",
       "      <td>0.0</td>\n",
       "      <td>0.0</td>\n",
       "      <td>1.0</td>\n",
       "      <td>0.0</td>\n",
       "      <td>0.0</td>\n",
       "    </tr>\n",
       "    <tr>\n",
       "      <th>2</th>\n",
       "      <td>3</td>\n",
       "      <td>1</td>\n",
       "      <td>1</td>\n",
       "      <td>1</td>\n",
       "      <td>0</td>\n",
       "      <td>0</td>\n",
       "      <td>0.0</td>\n",
       "      <td>1.0</td>\n",
       "      <td>0.0</td>\n",
       "      <td>0.0</td>\n",
       "      <td>...</td>\n",
       "      <td>0.0</td>\n",
       "      <td>0.0</td>\n",
       "      <td>0.0</td>\n",
       "      <td>0.0</td>\n",
       "      <td>0.0</td>\n",
       "      <td>0.0</td>\n",
       "      <td>0.0</td>\n",
       "      <td>1.0</td>\n",
       "      <td>0.0</td>\n",
       "      <td>0.0</td>\n",
       "    </tr>\n",
       "    <tr>\n",
       "      <th>3</th>\n",
       "      <td>2</td>\n",
       "      <td>1</td>\n",
       "      <td>0</td>\n",
       "      <td>0</td>\n",
       "      <td>1</td>\n",
       "      <td>0</td>\n",
       "      <td>0.0</td>\n",
       "      <td>0.0</td>\n",
       "      <td>1.0</td>\n",
       "      <td>0.0</td>\n",
       "      <td>...</td>\n",
       "      <td>0.0</td>\n",
       "      <td>0.0</td>\n",
       "      <td>0.0</td>\n",
       "      <td>0.0</td>\n",
       "      <td>0.0</td>\n",
       "      <td>0.0</td>\n",
       "      <td>0.0</td>\n",
       "      <td>1.0</td>\n",
       "      <td>0.0</td>\n",
       "      <td>0.0</td>\n",
       "    </tr>\n",
       "    <tr>\n",
       "      <th>4</th>\n",
       "      <td>2</td>\n",
       "      <td>1</td>\n",
       "      <td>0</td>\n",
       "      <td>0</td>\n",
       "      <td>0</td>\n",
       "      <td>0</td>\n",
       "      <td>0.0</td>\n",
       "      <td>1.0</td>\n",
       "      <td>0.0</td>\n",
       "      <td>0.0</td>\n",
       "      <td>...</td>\n",
       "      <td>0.0</td>\n",
       "      <td>0.0</td>\n",
       "      <td>0.0</td>\n",
       "      <td>0.0</td>\n",
       "      <td>0.0</td>\n",
       "      <td>0.0</td>\n",
       "      <td>0.0</td>\n",
       "      <td>0.0</td>\n",
       "      <td>0.0</td>\n",
       "      <td>1.0</td>\n",
       "    </tr>\n",
       "  </tbody>\n",
       "</table>\n",
       "<p>5 rows × 28 columns</p>\n",
       "</div>"
      ],
      "text/plain": [
       "   Metier  Python_present  R_present  SQL_present  Java_present  \\\n",
       "0       2               1          0            0             0   \n",
       "1       0               1          0            0             1   \n",
       "2       3               1          1            1             0   \n",
       "3       2               1          0            0             1   \n",
       "4       2               1          0            0             0   \n",
       "\n",
       "   Hadoop_present  categorie_exp_Avancé  categorie_exp_Confirmé  \\\n",
       "0               0                   0.0                     0.0   \n",
       "1               0                   0.0                     1.0   \n",
       "2               0                   0.0                     1.0   \n",
       "3               0                   0.0                     0.0   \n",
       "4               0                   0.0                     1.0   \n",
       "\n",
       "   categorie_exp_Débutant  categorie_exp_Expert  ...  Ville_Paris  \\\n",
       "0                     1.0                   0.0  ...          1.0   \n",
       "1                     0.0                   0.0  ...          0.0   \n",
       "2                     0.0                   0.0  ...          0.0   \n",
       "3                     1.0                   0.0  ...          0.0   \n",
       "4                     0.0                   0.0  ...          0.0   \n",
       "\n",
       "   Ville_Rennes  Ville_Rouen  Ville_Strasbourg  Ville_Toulon  Ville_Toulouse  \\\n",
       "0           0.0          0.0               0.0           0.0             0.0   \n",
       "1           0.0          0.0               0.0           0.0             0.0   \n",
       "2           0.0          0.0               0.0           0.0             0.0   \n",
       "3           0.0          0.0               0.0           0.0             0.0   \n",
       "4           0.0          0.0               0.0           0.0             0.0   \n",
       "\n",
       "   Diplome_Bachelor  Diplome_Master  Diplome_No diploma  Diplome_Phd  \n",
       "0               0.0             1.0                 0.0          0.0  \n",
       "1               0.0             1.0                 0.0          0.0  \n",
       "2               0.0             1.0                 0.0          0.0  \n",
       "3               0.0             1.0                 0.0          0.0  \n",
       "4               0.0             0.0                 0.0          1.0  \n",
       "\n",
       "[5 rows x 28 columns]"
      ]
     },
     "execution_count": 52,
     "metadata": {},
     "output_type": "execute_result"
    }
   ],
   "source": [
    "# Encoder les variables catégorielles binaires avec LabelEncoder\n",
    "label_encoder = LabelEncoder()\n",
    "data['Metier'] = label_encoder.fit_transform(data['Metier'])\n",
    "data.head()"
   ]
  },
  {
   "cell_type": "code",
   "execution_count": 53,
   "id": "318b523a",
   "metadata": {},
   "outputs": [
    {
     "name": "stdout",
     "output_type": "stream",
     "text": [
      "{'Data architecte': 0, 'Data engineer': 1, 'Data scientist': 2, 'Lead data scientist': 3}\n"
     ]
    }
   ],
   "source": [
    "# Avoir les différentes correspondances\n",
    "correspondances = dict(zip(label_encoder.classes_, range(len(label_encoder.classes_))))\n",
    "print(correspondances)"
   ]
  },
  {
   "cell_type": "code",
   "execution_count": 54,
   "id": "a68920a6",
   "metadata": {
    "scrolled": true
   },
   "outputs": [
    {
     "data": {
      "text/plain": [
       "Metier                    0\n",
       "Python_present            0\n",
       "R_present                 0\n",
       "SQL_present               0\n",
       "Java_present              0\n",
       "Hadoop_present            0\n",
       "categorie_exp_Avancé      0\n",
       "categorie_exp_Confirmé    0\n",
       "categorie_exp_Débutant    0\n",
       "categorie_exp_Expert      0\n",
       "Ville_Bordeaux            0\n",
       "Ville_Grenoble            0\n",
       "Ville_Lille               0\n",
       "Ville_Lyon                0\n",
       "Ville_Marseille           0\n",
       "Ville_Montpellier         0\n",
       "Ville_Nantes              0\n",
       "Ville_Nice                0\n",
       "Ville_Paris               0\n",
       "Ville_Rennes              0\n",
       "Ville_Rouen               0\n",
       "Ville_Strasbourg          0\n",
       "Ville_Toulon              0\n",
       "Ville_Toulouse            0\n",
       "Diplome_Bachelor          0\n",
       "Diplome_Master            0\n",
       "Diplome_No diploma        0\n",
       "Diplome_Phd               0\n",
       "dtype: int64"
      ]
     },
     "execution_count": 54,
     "metadata": {},
     "output_type": "execute_result"
    }
   ],
   "source": [
    "#Valeurs manquantes\n",
    "data.isna().sum()"
   ]
  },
  {
   "cell_type": "code",
   "execution_count": 55,
   "id": "a701e2bb",
   "metadata": {},
   "outputs": [
    {
     "data": {
      "text/plain": [
       "Metier                      int32\n",
       "Python_present              int64\n",
       "R_present                   int64\n",
       "SQL_present                 int64\n",
       "Java_present                int64\n",
       "Hadoop_present              int64\n",
       "categorie_exp_Avancé      float64\n",
       "categorie_exp_Confirmé    float64\n",
       "categorie_exp_Débutant    float64\n",
       "categorie_exp_Expert      float64\n",
       "Ville_Bordeaux            float64\n",
       "Ville_Grenoble            float64\n",
       "Ville_Lille               float64\n",
       "Ville_Lyon                float64\n",
       "Ville_Marseille           float64\n",
       "Ville_Montpellier         float64\n",
       "Ville_Nantes              float64\n",
       "Ville_Nice                float64\n",
       "Ville_Paris               float64\n",
       "Ville_Rennes              float64\n",
       "Ville_Rouen               float64\n",
       "Ville_Strasbourg          float64\n",
       "Ville_Toulon              float64\n",
       "Ville_Toulouse            float64\n",
       "Diplome_Bachelor          float64\n",
       "Diplome_Master            float64\n",
       "Diplome_No diploma        float64\n",
       "Diplome_Phd               float64\n",
       "dtype: object"
      ]
     },
     "execution_count": 55,
     "metadata": {},
     "output_type": "execute_result"
    }
   ],
   "source": [
    "# types des variables\n",
    "data.dtypes"
   ]
  },
  {
   "cell_type": "code",
   "execution_count": 56,
   "id": "806efad6",
   "metadata": {},
   "outputs": [],
   "source": [
    "# Selectionner les colonnes pertinentes pour les caracteristiques\n",
    "X = data.drop(columns = 'Metier')\n",
    "\n",
    "y = data['Metier']\n",
    "\n",
    "# Divisez les données en ensembles d'entraînement et de test\n",
    "X_train, X_test, y_train, y_test = train_test_split(X, y, test_size=0.2, random_state=42)\n"
   ]
  },
  {
   "cell_type": "code",
   "execution_count": 57,
   "id": "91ea3844",
   "metadata": {
    "scrolled": false
   },
   "outputs": [
    {
     "name": "stdout",
     "output_type": "stream",
     "text": [
      "The shape of X_train is:  (7616, 27)\n",
      "The shape of X_test is:  (1905, 27)\n"
     ]
    }
   ],
   "source": [
    "# Dimensions de X_train et X_test\n",
    "print ('The shape of X_train is: ', X_train.shape)\n",
    "print ('The shape of X_test is: ', X_test.shape)\n"
   ]
  },
  {
   "cell_type": "code",
   "execution_count": 58,
   "id": "25538bf5",
   "metadata": {},
   "outputs": [
    {
     "data": {
      "text/plain": [
       "[{'model': 'random_forest',\n",
       "  'best_score': 0.684612322343489,\n",
       "  'best_params': {'bootstrap': True, 'max_depth': 12, 'n_estimators': 30}}]"
      ]
     },
     "execution_count": 58,
     "metadata": {},
     "output_type": "execute_result"
    }
   ],
   "source": [
    "# Optimisation des hyperparamètres\n",
    "rf_params = {\n",
    "        'random_forest': {\n",
    "        'model': RandomForestClassifier(),\n",
    "        'params' : {\n",
    "            'n_estimators': [int(x) for x in np.linspace(start = 10, stop = 110, num = 11)],\n",
    "            'max_depth': [int(x) for x in np.linspace(4, 20, num = 3)],\n",
    "            'bootstrap': [True, False]\n",
    "        }  \n",
    "    }\n",
    "}\n",
    "\n",
    "scores = []\n",
    "\n",
    "for model_name, mp in rf_params.items():\n",
    "    clf =  GridSearchCV(mp['model'], mp['params'], cv=5, n_jobs=-1, return_train_score=False)\n",
    "    clf.fit(X_train, y_train)\n",
    "    scores.append({\n",
    "        'model': model_name,\n",
    "        'best_score': clf.best_score_,\n",
    "        'best_params': clf.best_params_\n",
    "    })\n",
    "\n",
    "# Affichage des valeurs optimales des hypers-paramètres\n",
    "scores"
   ]
  },
  {
   "cell_type": "code",
   "execution_count": 59,
   "id": "6a9084c1",
   "metadata": {},
   "outputs": [],
   "source": [
    "# Accéder au dictionnaire dans la liste\n",
    "\n",
    "best_params_dict = scores[0]['best_params']\n",
    "\n",
    "# Extraire les valeurs spécifiques\n",
    "bootstrap_value = best_params_dict['bootstrap']\n",
    "max_depth_value = best_params_dict['max_depth']\n",
    "n_estimators_value = best_params_dict['n_estimators']"
   ]
  },
  {
   "cell_type": "code",
   "execution_count": 60,
   "id": "2429e129",
   "metadata": {},
   "outputs": [],
   "source": [
    "# Initialisez le classificateur RandomForest\n",
    "RFclassifier = RandomForestClassifier(bootstrap= bootstrap_value, max_depth= max_depth_value, n_estimators= n_estimators_value)"
   ]
  },
  {
   "cell_type": "markdown",
   "id": "f593d57e",
   "metadata": {},
   "source": [
    "#### 6-2 Evaluation du modèle"
   ]
  },
  {
   "cell_type": "code",
   "execution_count": 61,
   "id": "ff18410a",
   "metadata": {},
   "outputs": [
    {
     "data": {
      "text/plain": [
       "Text(47.25, 0.5, 'Classes réelles')"
      ]
     },
     "execution_count": 61,
     "metadata": {},
     "output_type": "execute_result"
    },
    {
     "data": {
      "image/png": "[encoded data removed]",
      "text/plain": [
       "<Figure size 640x480 with 2 Axes>"
      ]
     },
     "metadata": {},
     "output_type": "display_data"
    }
   ],
   "source": [
    "# Afficher la matrice de confusion\n",
    "RFclassifier.fit(X_train, y_train)\n",
    "\n",
    "y_pred = RFclassifier.predict(X_test)\n",
    "\n",
    "cm = confusion_matrix(y_test, y_pred)\n",
    "ax = sns.heatmap(cm, annot=True)\n",
    "ax.set_title(\"Matrice de confusion\")\n",
    "ax.set_xlabel('Classes Prédictes')\n",
    "ax.set_ylabel('Classes réelles')"
   ]
  },
  {
   "cell_type": "code",
   "execution_count": 62,
   "id": "c243268d",
   "metadata": {
    "scrolled": true
   },
   "outputs": [
    {
     "data": {
      "image/png": "[encoded data removed]",
      "text/plain": [
       "<Figure size 800x600 with 1 Axes>"
      ]
     },
     "metadata": {},
     "output_type": "display_data"
    }
   ],
   "source": [
    "# Utilisez OneVsRestClassifier pour créer un classificateur pour chaque classe\n",
    "classifier = OneVsRestClassifier(RFclassifier)\n",
    "\n",
    "# Binarisez vos étiquettes\n",
    "y_train_bin = label_binarize(y_train, classes=[0, 1, 2, 3])\n",
    "y_test_bin= label_binarize(y_test, classes=[0, 1, 2, 3])\n",
    "\n",
    "# Entraînez le modèle\n",
    "classifier.fit(X_train, y_train_bin)\n",
    "\n",
    "# Obtenez les scores des prédictions pour chaque classe\n",
    "y_scores = classifier.predict_proba(X_test)\n",
    "\n",
    "# Calculez la courbe ROC pour chaque classe\n",
    "fpr = dict()\n",
    "tpr = dict()\n",
    "roc_auc = dict()\n",
    "for i in range(4):\n",
    "    fpr[i], tpr[i], _ = roc_curve(y_test_bin[:, i], y_scores[:, i])\n",
    "    roc_auc[i] = auc(fpr[i], tpr[i])\n",
    "\n",
    "# Tracez la courbe ROC pour chaque classe\n",
    "plt.figure(figsize=(8, 6))\n",
    "for i in range(4):\n",
    "    plt.plot(fpr[i], tpr[i], label=f'Class {i} (AUC = {roc_auc[i]:.2f})')\n",
    "\n",
    "plt.plot([0, 1], [0, 1], linestyle='--', color='gray', linewidth=2, label='Random')\n",
    "plt.xlabel('False Positive Rate')\n",
    "plt.ylabel('True Positive Rate')\n",
    "plt.title('ROC Curve - Random Forest (One-vs-All)')\n",
    "plt.legend()\n",
    "plt.show()\n"
   ]
  },
  {
   "cell_type": "code",
   "execution_count": null,
   "id": "0319fc04",
   "metadata": {},
   "outputs": [],
   "source": []
  },
  {
   "cell_type": "code",
   "execution_count": null,
   "id": "65d5cdb4",
   "metadata": {},
   "outputs": [],
   "source": []
  },
  {
   "cell_type": "markdown",
   "id": "0c6a55a7",
   "metadata": {},
   "source": [
    "#### 6-3 Prediction des Metiers manquants"
   ]
  },
  {
   "cell_type": "code",
   "execution_count": 63,
   "id": "c4788dce",
   "metadata": {},
   "outputs": [
    {
     "data": {
      "text/plain": [
       "(19, 42)"
      ]
     },
     "execution_count": 63,
     "metadata": {},
     "output_type": "execute_result"
    }
   ],
   "source": [
    "# Base de données des observations avec valeurs manquantes pour la variable Metier \n",
    "data_pred = df.loc[df['Metier'].isna()]\n",
    "data_pred.shape"
   ]
  },
  {
   "cell_type": "code",
   "execution_count": 64,
   "id": "552f837e",
   "metadata": {
    "scrolled": true
   },
   "outputs": [
    {
     "name": "stderr",
     "output_type": "stream",
     "text": [
      "C:\\Users\\VODOUMBO Miracle\\AppData\\Local\\Temp\\ipykernel_20596\\4072062943.py:2: SettingWithCopyWarning: \n",
      "A value is trying to be set on a copy of a slice from a DataFrame\n",
      "\n",
      "See the caveats in the documentation: https://pandas.pydata.org/pandas-docs/stable/user_guide/indexing.html#returning-a-view-versus-a-copy\n",
      "  data_pred.drop ( columns = ['categorie_exp_nan','categorie_exp','Ville','Diplome','Entreprise',\n"
     ]
    },
    {
     "data": {
      "text/html": [
       "<div>\n",
       "<style scoped>\n",
       "    .dataframe tbody tr th:only-of-type {\n",
       "        vertical-align: middle;\n",
       "    }\n",
       "\n",
       "    .dataframe tbody tr th {\n",
       "        vertical-align: top;\n",
       "    }\n",
       "\n",
       "    .dataframe thead th {\n",
       "        text-align: right;\n",
       "    }\n",
       "</style>\n",
       "<table border=\"1\" class=\"dataframe\">\n",
       "  <thead>\n",
       "    <tr style=\"text-align: right;\">\n",
       "      <th></th>\n",
       "      <th>Metier</th>\n",
       "      <th>Python_present</th>\n",
       "      <th>R_present</th>\n",
       "      <th>SQL_present</th>\n",
       "      <th>Java_present</th>\n",
       "      <th>Hadoop_present</th>\n",
       "      <th>categorie_exp_Avancé</th>\n",
       "      <th>categorie_exp_Confirmé</th>\n",
       "      <th>categorie_exp_Débutant</th>\n",
       "      <th>categorie_exp_Expert</th>\n",
       "      <th>...</th>\n",
       "      <th>Ville_Paris</th>\n",
       "      <th>Ville_Rennes</th>\n",
       "      <th>Ville_Rouen</th>\n",
       "      <th>Ville_Strasbourg</th>\n",
       "      <th>Ville_Toulon</th>\n",
       "      <th>Ville_Toulouse</th>\n",
       "      <th>Diplome_Bachelor</th>\n",
       "      <th>Diplome_Master</th>\n",
       "      <th>Diplome_No diploma</th>\n",
       "      <th>Diplome_Phd</th>\n",
       "    </tr>\n",
       "  </thead>\n",
       "  <tbody>\n",
       "    <tr>\n",
       "      <th>346</th>\n",
       "      <td>NaN</td>\n",
       "      <td>1</td>\n",
       "      <td>0</td>\n",
       "      <td>0</td>\n",
       "      <td>0</td>\n",
       "      <td>0</td>\n",
       "      <td>0.0</td>\n",
       "      <td>1.0</td>\n",
       "      <td>0.0</td>\n",
       "      <td>0.0</td>\n",
       "      <td>...</td>\n",
       "      <td>1.0</td>\n",
       "      <td>0.0</td>\n",
       "      <td>0.0</td>\n",
       "      <td>0.0</td>\n",
       "      <td>0.0</td>\n",
       "      <td>0.0</td>\n",
       "      <td>0.0</td>\n",
       "      <td>0.0</td>\n",
       "      <td>1.0</td>\n",
       "      <td>0.0</td>\n",
       "    </tr>\n",
       "    <tr>\n",
       "      <th>2058</th>\n",
       "      <td>NaN</td>\n",
       "      <td>1</td>\n",
       "      <td>1</td>\n",
       "      <td>0</td>\n",
       "      <td>0</td>\n",
       "      <td>0</td>\n",
       "      <td>0.0</td>\n",
       "      <td>0.0</td>\n",
       "      <td>0.0</td>\n",
       "      <td>1.0</td>\n",
       "      <td>...</td>\n",
       "      <td>0.0</td>\n",
       "      <td>0.0</td>\n",
       "      <td>0.0</td>\n",
       "      <td>0.0</td>\n",
       "      <td>0.0</td>\n",
       "      <td>0.0</td>\n",
       "      <td>0.0</td>\n",
       "      <td>1.0</td>\n",
       "      <td>0.0</td>\n",
       "      <td>0.0</td>\n",
       "    </tr>\n",
       "    <tr>\n",
       "      <th>2670</th>\n",
       "      <td>NaN</td>\n",
       "      <td>1</td>\n",
       "      <td>1</td>\n",
       "      <td>0</td>\n",
       "      <td>1</td>\n",
       "      <td>0</td>\n",
       "      <td>0.0</td>\n",
       "      <td>0.0</td>\n",
       "      <td>1.0</td>\n",
       "      <td>0.0</td>\n",
       "      <td>...</td>\n",
       "      <td>0.0</td>\n",
       "      <td>0.0</td>\n",
       "      <td>0.0</td>\n",
       "      <td>0.0</td>\n",
       "      <td>0.0</td>\n",
       "      <td>1.0</td>\n",
       "      <td>0.0</td>\n",
       "      <td>1.0</td>\n",
       "      <td>0.0</td>\n",
       "      <td>0.0</td>\n",
       "    </tr>\n",
       "    <tr>\n",
       "      <th>2899</th>\n",
       "      <td>NaN</td>\n",
       "      <td>1</td>\n",
       "      <td>1</td>\n",
       "      <td>0</td>\n",
       "      <td>0</td>\n",
       "      <td>0</td>\n",
       "      <td>0.0</td>\n",
       "      <td>0.0</td>\n",
       "      <td>1.0</td>\n",
       "      <td>0.0</td>\n",
       "      <td>...</td>\n",
       "      <td>0.0</td>\n",
       "      <td>0.0</td>\n",
       "      <td>0.0</td>\n",
       "      <td>0.0</td>\n",
       "      <td>0.0</td>\n",
       "      <td>0.0</td>\n",
       "      <td>0.0</td>\n",
       "      <td>0.0</td>\n",
       "      <td>0.0</td>\n",
       "      <td>1.0</td>\n",
       "    </tr>\n",
       "    <tr>\n",
       "      <th>3346</th>\n",
       "      <td>NaN</td>\n",
       "      <td>0</td>\n",
       "      <td>0</td>\n",
       "      <td>1</td>\n",
       "      <td>0</td>\n",
       "      <td>0</td>\n",
       "      <td>1.0</td>\n",
       "      <td>0.0</td>\n",
       "      <td>0.0</td>\n",
       "      <td>0.0</td>\n",
       "      <td>...</td>\n",
       "      <td>0.0</td>\n",
       "      <td>1.0</td>\n",
       "      <td>0.0</td>\n",
       "      <td>0.0</td>\n",
       "      <td>0.0</td>\n",
       "      <td>0.0</td>\n",
       "      <td>0.0</td>\n",
       "      <td>1.0</td>\n",
       "      <td>0.0</td>\n",
       "      <td>0.0</td>\n",
       "    </tr>\n",
       "  </tbody>\n",
       "</table>\n",
       "<p>5 rows × 28 columns</p>\n",
       "</div>"
      ],
      "text/plain": [
       "     Metier  Python_present  R_present  SQL_present  Java_present  \\\n",
       "346     NaN               1          0            0             0   \n",
       "2058    NaN               1          1            0             0   \n",
       "2670    NaN               1          1            0             1   \n",
       "2899    NaN               1          1            0             0   \n",
       "3346    NaN               0          0            1             0   \n",
       "\n",
       "      Hadoop_present  categorie_exp_Avancé  categorie_exp_Confirmé  \\\n",
       "346                0                   0.0                     1.0   \n",
       "2058               0                   0.0                     0.0   \n",
       "2670               0                   0.0                     0.0   \n",
       "2899               0                   0.0                     0.0   \n",
       "3346               0                   1.0                     0.0   \n",
       "\n",
       "      categorie_exp_Débutant  categorie_exp_Expert  ...  Ville_Paris  \\\n",
       "346                      0.0                   0.0  ...          1.0   \n",
       "2058                     0.0                   1.0  ...          0.0   \n",
       "2670                     1.0                   0.0  ...          0.0   \n",
       "2899                     1.0                   0.0  ...          0.0   \n",
       "3346                     0.0                   0.0  ...          0.0   \n",
       "\n",
       "      Ville_Rennes  Ville_Rouen  Ville_Strasbourg  Ville_Toulon  \\\n",
       "346            0.0          0.0               0.0           0.0   \n",
       "2058           0.0          0.0               0.0           0.0   \n",
       "2670           0.0          0.0               0.0           0.0   \n",
       "2899           0.0          0.0               0.0           0.0   \n",
       "3346           1.0          0.0               0.0           0.0   \n",
       "\n",
       "      Ville_Toulouse  Diplome_Bachelor  Diplome_Master  Diplome_No diploma  \\\n",
       "346              0.0               0.0             0.0                 1.0   \n",
       "2058             0.0               0.0             1.0                 0.0   \n",
       "2670             1.0               0.0             1.0                 0.0   \n",
       "2899             0.0               0.0             0.0                 0.0   \n",
       "3346             0.0               0.0             1.0                 0.0   \n",
       "\n",
       "      Diplome_Phd  \n",
       "346           0.0  \n",
       "2058          0.0  \n",
       "2670          0.0  \n",
       "2899          1.0  \n",
       "3346          0.0  \n",
       "\n",
       "[5 rows x 28 columns]"
      ]
     },
     "execution_count": 64,
     "metadata": {},
     "output_type": "execute_result"
    }
   ],
   "source": [
    "#Preprocessing\n",
    "data_pred.drop ( columns = ['categorie_exp_nan','categorie_exp','Ville','Diplome','Entreprise',\n",
    "                            'Technologies','Experience', 'Technologie1', 'Technologie2', 'Technologie3', 'Technologie4', 'Technologie5', 'Technologie6', 'Technologie7'], inplace = True)\n",
    "data_pred.head()"
   ]
  },
  {
   "cell_type": "code",
   "execution_count": 65,
   "id": "1a633be0",
   "metadata": {
    "scrolled": true
   },
   "outputs": [
    {
     "name": "stderr",
     "output_type": "stream",
     "text": [
      "C:\\Users\\VODOUMBO Miracle\\AppData\\Local\\Temp\\ipykernel_20596\\2971957982.py:2: SettingWithCopyWarning: \n",
      "A value is trying to be set on a copy of a slice from a DataFrame\n",
      "\n",
      "See the caveats in the documentation: https://pandas.pydata.org/pandas-docs/stable/user_guide/indexing.html#returning-a-view-versus-a-copy\n",
      "  data_pred.drop ( columns = 'Metier', inplace = True)\n"
     ]
    },
    {
     "data": {
      "text/html": [
       "<div>\n",
       "<style scoped>\n",
       "    .dataframe tbody tr th:only-of-type {\n",
       "        vertical-align: middle;\n",
       "    }\n",
       "\n",
       "    .dataframe tbody tr th {\n",
       "        vertical-align: top;\n",
       "    }\n",
       "\n",
       "    .dataframe thead th {\n",
       "        text-align: right;\n",
       "    }\n",
       "</style>\n",
       "<table border=\"1\" class=\"dataframe\">\n",
       "  <thead>\n",
       "    <tr style=\"text-align: right;\">\n",
       "      <th></th>\n",
       "      <th>Python_present</th>\n",
       "      <th>R_present</th>\n",
       "      <th>SQL_present</th>\n",
       "      <th>Java_present</th>\n",
       "      <th>Hadoop_present</th>\n",
       "      <th>categorie_exp_Avancé</th>\n",
       "      <th>categorie_exp_Confirmé</th>\n",
       "      <th>categorie_exp_Débutant</th>\n",
       "      <th>categorie_exp_Expert</th>\n",
       "      <th>Ville_Bordeaux</th>\n",
       "      <th>...</th>\n",
       "      <th>Ville_Paris</th>\n",
       "      <th>Ville_Rennes</th>\n",
       "      <th>Ville_Rouen</th>\n",
       "      <th>Ville_Strasbourg</th>\n",
       "      <th>Ville_Toulon</th>\n",
       "      <th>Ville_Toulouse</th>\n",
       "      <th>Diplome_Bachelor</th>\n",
       "      <th>Diplome_Master</th>\n",
       "      <th>Diplome_No diploma</th>\n",
       "      <th>Diplome_Phd</th>\n",
       "    </tr>\n",
       "  </thead>\n",
       "  <tbody>\n",
       "    <tr>\n",
       "      <th>346</th>\n",
       "      <td>1</td>\n",
       "      <td>0</td>\n",
       "      <td>0</td>\n",
       "      <td>0</td>\n",
       "      <td>0</td>\n",
       "      <td>0.0</td>\n",
       "      <td>1.0</td>\n",
       "      <td>0.0</td>\n",
       "      <td>0.0</td>\n",
       "      <td>0.0</td>\n",
       "      <td>...</td>\n",
       "      <td>1.0</td>\n",
       "      <td>0.0</td>\n",
       "      <td>0.0</td>\n",
       "      <td>0.0</td>\n",
       "      <td>0.0</td>\n",
       "      <td>0.0</td>\n",
       "      <td>0.0</td>\n",
       "      <td>0.0</td>\n",
       "      <td>1.0</td>\n",
       "      <td>0.0</td>\n",
       "    </tr>\n",
       "    <tr>\n",
       "      <th>2058</th>\n",
       "      <td>1</td>\n",
       "      <td>1</td>\n",
       "      <td>0</td>\n",
       "      <td>0</td>\n",
       "      <td>0</td>\n",
       "      <td>0.0</td>\n",
       "      <td>0.0</td>\n",
       "      <td>0.0</td>\n",
       "      <td>1.0</td>\n",
       "      <td>0.0</td>\n",
       "      <td>...</td>\n",
       "      <td>0.0</td>\n",
       "      <td>0.0</td>\n",
       "      <td>0.0</td>\n",
       "      <td>0.0</td>\n",
       "      <td>0.0</td>\n",
       "      <td>0.0</td>\n",
       "      <td>0.0</td>\n",
       "      <td>1.0</td>\n",
       "      <td>0.0</td>\n",
       "      <td>0.0</td>\n",
       "    </tr>\n",
       "    <tr>\n",
       "      <th>2670</th>\n",
       "      <td>1</td>\n",
       "      <td>1</td>\n",
       "      <td>0</td>\n",
       "      <td>1</td>\n",
       "      <td>0</td>\n",
       "      <td>0.0</td>\n",
       "      <td>0.0</td>\n",
       "      <td>1.0</td>\n",
       "      <td>0.0</td>\n",
       "      <td>0.0</td>\n",
       "      <td>...</td>\n",
       "      <td>0.0</td>\n",
       "      <td>0.0</td>\n",
       "      <td>0.0</td>\n",
       "      <td>0.0</td>\n",
       "      <td>0.0</td>\n",
       "      <td>1.0</td>\n",
       "      <td>0.0</td>\n",
       "      <td>1.0</td>\n",
       "      <td>0.0</td>\n",
       "      <td>0.0</td>\n",
       "    </tr>\n",
       "    <tr>\n",
       "      <th>2899</th>\n",
       "      <td>1</td>\n",
       "      <td>1</td>\n",
       "      <td>0</td>\n",
       "      <td>0</td>\n",
       "      <td>0</td>\n",
       "      <td>0.0</td>\n",
       "      <td>0.0</td>\n",
       "      <td>1.0</td>\n",
       "      <td>0.0</td>\n",
       "      <td>0.0</td>\n",
       "      <td>...</td>\n",
       "      <td>0.0</td>\n",
       "      <td>0.0</td>\n",
       "      <td>0.0</td>\n",
       "      <td>0.0</td>\n",
       "      <td>0.0</td>\n",
       "      <td>0.0</td>\n",
       "      <td>0.0</td>\n",
       "      <td>0.0</td>\n",
       "      <td>0.0</td>\n",
       "      <td>1.0</td>\n",
       "    </tr>\n",
       "    <tr>\n",
       "      <th>3346</th>\n",
       "      <td>0</td>\n",
       "      <td>0</td>\n",
       "      <td>1</td>\n",
       "      <td>0</td>\n",
       "      <td>0</td>\n",
       "      <td>1.0</td>\n",
       "      <td>0.0</td>\n",
       "      <td>0.0</td>\n",
       "      <td>0.0</td>\n",
       "      <td>0.0</td>\n",
       "      <td>...</td>\n",
       "      <td>0.0</td>\n",
       "      <td>1.0</td>\n",
       "      <td>0.0</td>\n",
       "      <td>0.0</td>\n",
       "      <td>0.0</td>\n",
       "      <td>0.0</td>\n",
       "      <td>0.0</td>\n",
       "      <td>1.0</td>\n",
       "      <td>0.0</td>\n",
       "      <td>0.0</td>\n",
       "    </tr>\n",
       "  </tbody>\n",
       "</table>\n",
       "<p>5 rows × 27 columns</p>\n",
       "</div>"
      ],
      "text/plain": [
       "      Python_present  R_present  SQL_present  Java_present  Hadoop_present  \\\n",
       "346                1          0            0             0               0   \n",
       "2058               1          1            0             0               0   \n",
       "2670               1          1            0             1               0   \n",
       "2899               1          1            0             0               0   \n",
       "3346               0          0            1             0               0   \n",
       "\n",
       "      categorie_exp_Avancé  categorie_exp_Confirmé  categorie_exp_Débutant  \\\n",
       "346                    0.0                     1.0                     0.0   \n",
       "2058                   0.0                     0.0                     0.0   \n",
       "2670                   0.0                     0.0                     1.0   \n",
       "2899                   0.0                     0.0                     1.0   \n",
       "3346                   1.0                     0.0                     0.0   \n",
       "\n",
       "      categorie_exp_Expert  Ville_Bordeaux  ...  Ville_Paris  Ville_Rennes  \\\n",
       "346                    0.0             0.0  ...          1.0           0.0   \n",
       "2058                   1.0             0.0  ...          0.0           0.0   \n",
       "2670                   0.0             0.0  ...          0.0           0.0   \n",
       "2899                   0.0             0.0  ...          0.0           0.0   \n",
       "3346                   0.0             0.0  ...          0.0           1.0   \n",
       "\n",
       "      Ville_Rouen  Ville_Strasbourg  Ville_Toulon  Ville_Toulouse  \\\n",
       "346           0.0               0.0           0.0             0.0   \n",
       "2058          0.0               0.0           0.0             0.0   \n",
       "2670          0.0               0.0           0.0             1.0   \n",
       "2899          0.0               0.0           0.0             0.0   \n",
       "3346          0.0               0.0           0.0             0.0   \n",
       "\n",
       "      Diplome_Bachelor  Diplome_Master  Diplome_No diploma  Diplome_Phd  \n",
       "346                0.0             0.0                 1.0          0.0  \n",
       "2058               0.0             1.0                 0.0          0.0  \n",
       "2670               0.0             1.0                 0.0          0.0  \n",
       "2899               0.0             0.0                 0.0          1.0  \n",
       "3346               0.0             1.0                 0.0          0.0  \n",
       "\n",
       "[5 rows x 27 columns]"
      ]
     },
     "execution_count": 65,
     "metadata": {},
     "output_type": "execute_result"
    }
   ],
   "source": [
    "# Suppression de la colonne Metier constitué que des valeurs manquantes à prédire\n",
    "data_pred.drop ( columns = 'Metier', inplace = True)\n",
    "data_pred.head()"
   ]
  },
  {
   "cell_type": "code",
   "execution_count": 66,
   "id": "cb4d6dbe",
   "metadata": {},
   "outputs": [
    {
     "data": {
      "text/plain": [
       "array([1, 2, 2, 2, 0, 2, 2, 3, 1, 2, 0, 1, 0, 2, 2, 2, 0, 2, 3])"
      ]
     },
     "execution_count": 66,
     "metadata": {},
     "output_type": "execute_result"
    }
   ],
   "source": [
    "# Prediction effectuée avec le modèle initalisé de base\n",
    "Metier_predict = RFclassifier.predict(data_pred)\n",
    "Metier_predict"
   ]
  },
  {
   "cell_type": "code",
   "execution_count": 67,
   "id": "286be548",
   "metadata": {},
   "outputs": [
    {
     "data": {
      "text/plain": [
       "['Data Engineer',\n",
       " 'Data Scientist',\n",
       " 'Data Scientist',\n",
       " 'Data Scientist',\n",
       " 'Data Architect',\n",
       " 'Data Scientist',\n",
       " 'Data Scientist',\n",
       " 'Lead Data Scientist',\n",
       " 'Data Engineer',\n",
       " 'Data Scientist',\n",
       " 'Data Architect',\n",
       " 'Data Engineer',\n",
       " 'Data Architect',\n",
       " 'Data Scientist',\n",
       " 'Data Scientist',\n",
       " 'Data Scientist',\n",
       " 'Data Architect',\n",
       " 'Data Scientist',\n",
       " 'Lead Data Scientist']"
      ]
     },
     "execution_count": 67,
     "metadata": {},
     "output_type": "execute_result"
    }
   ],
   "source": [
    "# Dictionnaire de correspondance\n",
    "label_dict = {0: 'Data Architect', 1: 'Data Engineer', 2: 'Data Scientist', 3: 'Lead Data Scientist'}\n",
    "\n",
    "# Appliquer la correspondance avec une liste de compréhension\n",
    "Metier_predict = [label_dict[label] for label in Metier_predict]\n",
    "\n",
    "Metier_predict"
   ]
  },
  {
   "cell_type": "code",
   "execution_count": 68,
   "id": "1ae2f4da",
   "metadata": {
    "scrolled": true
   },
   "outputs": [
    {
     "name": "stderr",
     "output_type": "stream",
     "text": [
      "C:\\Users\\VODOUMBO Miracle\\AppData\\Local\\Temp\\ipykernel_20596\\3290272202.py:1: SettingWithCopyWarning: \n",
      "A value is trying to be set on a copy of a slice from a DataFrame.\n",
      "Try using .loc[row_indexer,col_indexer] = value instead\n",
      "\n",
      "See the caveats in the documentation: https://pandas.pydata.org/pandas-docs/stable/user_guide/indexing.html#returning-a-view-versus-a-copy\n",
      "  data_pred['Metier_predicted']= Metier_predict\n"
     ]
    },
    {
     "data": {
      "text/html": [
       "<div>\n",
       "<style scoped>\n",
       "    .dataframe tbody tr th:only-of-type {\n",
       "        vertical-align: middle;\n",
       "    }\n",
       "\n",
       "    .dataframe tbody tr th {\n",
       "        vertical-align: top;\n",
       "    }\n",
       "\n",
       "    .dataframe thead th {\n",
       "        text-align: right;\n",
       "    }\n",
       "</style>\n",
       "<table border=\"1\" class=\"dataframe\">\n",
       "  <thead>\n",
       "    <tr style=\"text-align: right;\">\n",
       "      <th></th>\n",
       "      <th>Python_present</th>\n",
       "      <th>R_present</th>\n",
       "      <th>SQL_present</th>\n",
       "      <th>Java_present</th>\n",
       "      <th>Hadoop_present</th>\n",
       "      <th>categorie_exp_Avancé</th>\n",
       "      <th>categorie_exp_Confirmé</th>\n",
       "      <th>categorie_exp_Débutant</th>\n",
       "      <th>categorie_exp_Expert</th>\n",
       "      <th>Ville_Bordeaux</th>\n",
       "      <th>...</th>\n",
       "      <th>Ville_Rennes</th>\n",
       "      <th>Ville_Rouen</th>\n",
       "      <th>Ville_Strasbourg</th>\n",
       "      <th>Ville_Toulon</th>\n",
       "      <th>Ville_Toulouse</th>\n",
       "      <th>Diplome_Bachelor</th>\n",
       "      <th>Diplome_Master</th>\n",
       "      <th>Diplome_No diploma</th>\n",
       "      <th>Diplome_Phd</th>\n",
       "      <th>Metier_predicted</th>\n",
       "    </tr>\n",
       "  </thead>\n",
       "  <tbody>\n",
       "    <tr>\n",
       "      <th>346</th>\n",
       "      <td>1</td>\n",
       "      <td>0</td>\n",
       "      <td>0</td>\n",
       "      <td>0</td>\n",
       "      <td>0</td>\n",
       "      <td>0.0</td>\n",
       "      <td>1.0</td>\n",
       "      <td>0.0</td>\n",
       "      <td>0.0</td>\n",
       "      <td>0.0</td>\n",
       "      <td>...</td>\n",
       "      <td>0.0</td>\n",
       "      <td>0.0</td>\n",
       "      <td>0.0</td>\n",
       "      <td>0.0</td>\n",
       "      <td>0.0</td>\n",
       "      <td>0.0</td>\n",
       "      <td>0.0</td>\n",
       "      <td>1.0</td>\n",
       "      <td>0.0</td>\n",
       "      <td>Data Engineer</td>\n",
       "    </tr>\n",
       "    <tr>\n",
       "      <th>2058</th>\n",
       "      <td>1</td>\n",
       "      <td>1</td>\n",
       "      <td>0</td>\n",
       "      <td>0</td>\n",
       "      <td>0</td>\n",
       "      <td>0.0</td>\n",
       "      <td>0.0</td>\n",
       "      <td>0.0</td>\n",
       "      <td>1.0</td>\n",
       "      <td>0.0</td>\n",
       "      <td>...</td>\n",
       "      <td>0.0</td>\n",
       "      <td>0.0</td>\n",
       "      <td>0.0</td>\n",
       "      <td>0.0</td>\n",
       "      <td>0.0</td>\n",
       "      <td>0.0</td>\n",
       "      <td>1.0</td>\n",
       "      <td>0.0</td>\n",
       "      <td>0.0</td>\n",
       "      <td>Data Scientist</td>\n",
       "    </tr>\n",
       "    <tr>\n",
       "      <th>2670</th>\n",
       "      <td>1</td>\n",
       "      <td>1</td>\n",
       "      <td>0</td>\n",
       "      <td>1</td>\n",
       "      <td>0</td>\n",
       "      <td>0.0</td>\n",
       "      <td>0.0</td>\n",
       "      <td>1.0</td>\n",
       "      <td>0.0</td>\n",
       "      <td>0.0</td>\n",
       "      <td>...</td>\n",
       "      <td>0.0</td>\n",
       "      <td>0.0</td>\n",
       "      <td>0.0</td>\n",
       "      <td>0.0</td>\n",
       "      <td>1.0</td>\n",
       "      <td>0.0</td>\n",
       "      <td>1.0</td>\n",
       "      <td>0.0</td>\n",
       "      <td>0.0</td>\n",
       "      <td>Data Scientist</td>\n",
       "    </tr>\n",
       "    <tr>\n",
       "      <th>2899</th>\n",
       "      <td>1</td>\n",
       "      <td>1</td>\n",
       "      <td>0</td>\n",
       "      <td>0</td>\n",
       "      <td>0</td>\n",
       "      <td>0.0</td>\n",
       "      <td>0.0</td>\n",
       "      <td>1.0</td>\n",
       "      <td>0.0</td>\n",
       "      <td>0.0</td>\n",
       "      <td>...</td>\n",
       "      <td>0.0</td>\n",
       "      <td>0.0</td>\n",
       "      <td>0.0</td>\n",
       "      <td>0.0</td>\n",
       "      <td>0.0</td>\n",
       "      <td>0.0</td>\n",
       "      <td>0.0</td>\n",
       "      <td>0.0</td>\n",
       "      <td>1.0</td>\n",
       "      <td>Data Scientist</td>\n",
       "    </tr>\n",
       "    <tr>\n",
       "      <th>3346</th>\n",
       "      <td>0</td>\n",
       "      <td>0</td>\n",
       "      <td>1</td>\n",
       "      <td>0</td>\n",
       "      <td>0</td>\n",
       "      <td>1.0</td>\n",
       "      <td>0.0</td>\n",
       "      <td>0.0</td>\n",
       "      <td>0.0</td>\n",
       "      <td>0.0</td>\n",
       "      <td>...</td>\n",
       "      <td>1.0</td>\n",
       "      <td>0.0</td>\n",
       "      <td>0.0</td>\n",
       "      <td>0.0</td>\n",
       "      <td>0.0</td>\n",
       "      <td>0.0</td>\n",
       "      <td>1.0</td>\n",
       "      <td>0.0</td>\n",
       "      <td>0.0</td>\n",
       "      <td>Data Architect</td>\n",
       "    </tr>\n",
       "    <tr>\n",
       "      <th>4248</th>\n",
       "      <td>1</td>\n",
       "      <td>1</td>\n",
       "      <td>1</td>\n",
       "      <td>0</td>\n",
       "      <td>0</td>\n",
       "      <td>0.0</td>\n",
       "      <td>1.0</td>\n",
       "      <td>0.0</td>\n",
       "      <td>0.0</td>\n",
       "      <td>0.0</td>\n",
       "      <td>...</td>\n",
       "      <td>0.0</td>\n",
       "      <td>0.0</td>\n",
       "      <td>0.0</td>\n",
       "      <td>0.0</td>\n",
       "      <td>0.0</td>\n",
       "      <td>0.0</td>\n",
       "      <td>0.0</td>\n",
       "      <td>0.0</td>\n",
       "      <td>1.0</td>\n",
       "      <td>Data Scientist</td>\n",
       "    </tr>\n",
       "    <tr>\n",
       "      <th>4290</th>\n",
       "      <td>1</td>\n",
       "      <td>1</td>\n",
       "      <td>1</td>\n",
       "      <td>0</td>\n",
       "      <td>0</td>\n",
       "      <td>0.0</td>\n",
       "      <td>0.0</td>\n",
       "      <td>1.0</td>\n",
       "      <td>0.0</td>\n",
       "      <td>0.0</td>\n",
       "      <td>...</td>\n",
       "      <td>0.0</td>\n",
       "      <td>0.0</td>\n",
       "      <td>0.0</td>\n",
       "      <td>0.0</td>\n",
       "      <td>1.0</td>\n",
       "      <td>0.0</td>\n",
       "      <td>0.0</td>\n",
       "      <td>0.0</td>\n",
       "      <td>1.0</td>\n",
       "      <td>Data Scientist</td>\n",
       "    </tr>\n",
       "    <tr>\n",
       "      <th>4292</th>\n",
       "      <td>1</td>\n",
       "      <td>1</td>\n",
       "      <td>1</td>\n",
       "      <td>0</td>\n",
       "      <td>0</td>\n",
       "      <td>0.0</td>\n",
       "      <td>0.0</td>\n",
       "      <td>0.0</td>\n",
       "      <td>1.0</td>\n",
       "      <td>1.0</td>\n",
       "      <td>...</td>\n",
       "      <td>0.0</td>\n",
       "      <td>0.0</td>\n",
       "      <td>0.0</td>\n",
       "      <td>0.0</td>\n",
       "      <td>0.0</td>\n",
       "      <td>0.0</td>\n",
       "      <td>1.0</td>\n",
       "      <td>0.0</td>\n",
       "      <td>0.0</td>\n",
       "      <td>Lead Data Scientist</td>\n",
       "    </tr>\n",
       "    <tr>\n",
       "      <th>5425</th>\n",
       "      <td>1</td>\n",
       "      <td>0</td>\n",
       "      <td>0</td>\n",
       "      <td>0</td>\n",
       "      <td>0</td>\n",
       "      <td>1.0</td>\n",
       "      <td>0.0</td>\n",
       "      <td>0.0</td>\n",
       "      <td>0.0</td>\n",
       "      <td>0.0</td>\n",
       "      <td>...</td>\n",
       "      <td>0.0</td>\n",
       "      <td>0.0</td>\n",
       "      <td>0.0</td>\n",
       "      <td>0.0</td>\n",
       "      <td>0.0</td>\n",
       "      <td>0.0</td>\n",
       "      <td>0.0</td>\n",
       "      <td>1.0</td>\n",
       "      <td>0.0</td>\n",
       "      <td>Data Engineer</td>\n",
       "    </tr>\n",
       "    <tr>\n",
       "      <th>5593</th>\n",
       "      <td>1</td>\n",
       "      <td>1</td>\n",
       "      <td>0</td>\n",
       "      <td>0</td>\n",
       "      <td>0</td>\n",
       "      <td>0.0</td>\n",
       "      <td>1.0</td>\n",
       "      <td>0.0</td>\n",
       "      <td>0.0</td>\n",
       "      <td>0.0</td>\n",
       "      <td>...</td>\n",
       "      <td>0.0</td>\n",
       "      <td>0.0</td>\n",
       "      <td>0.0</td>\n",
       "      <td>0.0</td>\n",
       "      <td>0.0</td>\n",
       "      <td>0.0</td>\n",
       "      <td>1.0</td>\n",
       "      <td>0.0</td>\n",
       "      <td>0.0</td>\n",
       "      <td>Data Scientist</td>\n",
       "    </tr>\n",
       "    <tr>\n",
       "      <th>5712</th>\n",
       "      <td>0</td>\n",
       "      <td>0</td>\n",
       "      <td>0</td>\n",
       "      <td>0</td>\n",
       "      <td>1</td>\n",
       "      <td>0.0</td>\n",
       "      <td>1.0</td>\n",
       "      <td>0.0</td>\n",
       "      <td>0.0</td>\n",
       "      <td>0.0</td>\n",
       "      <td>...</td>\n",
       "      <td>0.0</td>\n",
       "      <td>0.0</td>\n",
       "      <td>0.0</td>\n",
       "      <td>0.0</td>\n",
       "      <td>0.0</td>\n",
       "      <td>1.0</td>\n",
       "      <td>0.0</td>\n",
       "      <td>0.0</td>\n",
       "      <td>0.0</td>\n",
       "      <td>Data Architect</td>\n",
       "    </tr>\n",
       "    <tr>\n",
       "      <th>6024</th>\n",
       "      <td>1</td>\n",
       "      <td>1</td>\n",
       "      <td>0</td>\n",
       "      <td>0</td>\n",
       "      <td>1</td>\n",
       "      <td>0.0</td>\n",
       "      <td>0.0</td>\n",
       "      <td>1.0</td>\n",
       "      <td>0.0</td>\n",
       "      <td>0.0</td>\n",
       "      <td>...</td>\n",
       "      <td>0.0</td>\n",
       "      <td>0.0</td>\n",
       "      <td>0.0</td>\n",
       "      <td>0.0</td>\n",
       "      <td>0.0</td>\n",
       "      <td>0.0</td>\n",
       "      <td>1.0</td>\n",
       "      <td>0.0</td>\n",
       "      <td>0.0</td>\n",
       "      <td>Data Engineer</td>\n",
       "    </tr>\n",
       "    <tr>\n",
       "      <th>6625</th>\n",
       "      <td>0</td>\n",
       "      <td>0</td>\n",
       "      <td>0</td>\n",
       "      <td>0</td>\n",
       "      <td>1</td>\n",
       "      <td>0.0</td>\n",
       "      <td>0.0</td>\n",
       "      <td>1.0</td>\n",
       "      <td>0.0</td>\n",
       "      <td>0.0</td>\n",
       "      <td>...</td>\n",
       "      <td>0.0</td>\n",
       "      <td>0.0</td>\n",
       "      <td>0.0</td>\n",
       "      <td>0.0</td>\n",
       "      <td>0.0</td>\n",
       "      <td>0.0</td>\n",
       "      <td>0.0</td>\n",
       "      <td>1.0</td>\n",
       "      <td>0.0</td>\n",
       "      <td>Data Architect</td>\n",
       "    </tr>\n",
       "    <tr>\n",
       "      <th>7091</th>\n",
       "      <td>1</td>\n",
       "      <td>1</td>\n",
       "      <td>1</td>\n",
       "      <td>0</td>\n",
       "      <td>0</td>\n",
       "      <td>0.0</td>\n",
       "      <td>0.0</td>\n",
       "      <td>1.0</td>\n",
       "      <td>0.0</td>\n",
       "      <td>0.0</td>\n",
       "      <td>...</td>\n",
       "      <td>0.0</td>\n",
       "      <td>0.0</td>\n",
       "      <td>0.0</td>\n",
       "      <td>0.0</td>\n",
       "      <td>0.0</td>\n",
       "      <td>0.0</td>\n",
       "      <td>1.0</td>\n",
       "      <td>0.0</td>\n",
       "      <td>0.0</td>\n",
       "      <td>Data Scientist</td>\n",
       "    </tr>\n",
       "    <tr>\n",
       "      <th>7228</th>\n",
       "      <td>1</td>\n",
       "      <td>1</td>\n",
       "      <td>0</td>\n",
       "      <td>0</td>\n",
       "      <td>0</td>\n",
       "      <td>0.0</td>\n",
       "      <td>1.0</td>\n",
       "      <td>0.0</td>\n",
       "      <td>0.0</td>\n",
       "      <td>1.0</td>\n",
       "      <td>...</td>\n",
       "      <td>0.0</td>\n",
       "      <td>0.0</td>\n",
       "      <td>0.0</td>\n",
       "      <td>0.0</td>\n",
       "      <td>0.0</td>\n",
       "      <td>0.0</td>\n",
       "      <td>1.0</td>\n",
       "      <td>0.0</td>\n",
       "      <td>0.0</td>\n",
       "      <td>Data Scientist</td>\n",
       "    </tr>\n",
       "    <tr>\n",
       "      <th>7330</th>\n",
       "      <td>1</td>\n",
       "      <td>1</td>\n",
       "      <td>0</td>\n",
       "      <td>0</td>\n",
       "      <td>0</td>\n",
       "      <td>0.0</td>\n",
       "      <td>0.0</td>\n",
       "      <td>1.0</td>\n",
       "      <td>0.0</td>\n",
       "      <td>0.0</td>\n",
       "      <td>...</td>\n",
       "      <td>0.0</td>\n",
       "      <td>0.0</td>\n",
       "      <td>0.0</td>\n",
       "      <td>0.0</td>\n",
       "      <td>0.0</td>\n",
       "      <td>0.0</td>\n",
       "      <td>0.0</td>\n",
       "      <td>0.0</td>\n",
       "      <td>1.0</td>\n",
       "      <td>Data Scientist</td>\n",
       "    </tr>\n",
       "    <tr>\n",
       "      <th>9087</th>\n",
       "      <td>0</td>\n",
       "      <td>0</td>\n",
       "      <td>0</td>\n",
       "      <td>0</td>\n",
       "      <td>1</td>\n",
       "      <td>0.0</td>\n",
       "      <td>1.0</td>\n",
       "      <td>0.0</td>\n",
       "      <td>0.0</td>\n",
       "      <td>0.0</td>\n",
       "      <td>...</td>\n",
       "      <td>0.0</td>\n",
       "      <td>0.0</td>\n",
       "      <td>0.0</td>\n",
       "      <td>0.0</td>\n",
       "      <td>0.0</td>\n",
       "      <td>0.0</td>\n",
       "      <td>0.0</td>\n",
       "      <td>1.0</td>\n",
       "      <td>0.0</td>\n",
       "      <td>Data Architect</td>\n",
       "    </tr>\n",
       "    <tr>\n",
       "      <th>9427</th>\n",
       "      <td>1</td>\n",
       "      <td>1</td>\n",
       "      <td>0</td>\n",
       "      <td>0</td>\n",
       "      <td>0</td>\n",
       "      <td>0.0</td>\n",
       "      <td>0.0</td>\n",
       "      <td>1.0</td>\n",
       "      <td>0.0</td>\n",
       "      <td>0.0</td>\n",
       "      <td>...</td>\n",
       "      <td>0.0</td>\n",
       "      <td>0.0</td>\n",
       "      <td>0.0</td>\n",
       "      <td>0.0</td>\n",
       "      <td>0.0</td>\n",
       "      <td>0.0</td>\n",
       "      <td>1.0</td>\n",
       "      <td>0.0</td>\n",
       "      <td>0.0</td>\n",
       "      <td>Data Scientist</td>\n",
       "    </tr>\n",
       "    <tr>\n",
       "      <th>9490</th>\n",
       "      <td>1</td>\n",
       "      <td>1</td>\n",
       "      <td>1</td>\n",
       "      <td>0</td>\n",
       "      <td>0</td>\n",
       "      <td>1.0</td>\n",
       "      <td>0.0</td>\n",
       "      <td>0.0</td>\n",
       "      <td>0.0</td>\n",
       "      <td>0.0</td>\n",
       "      <td>...</td>\n",
       "      <td>0.0</td>\n",
       "      <td>0.0</td>\n",
       "      <td>0.0</td>\n",
       "      <td>0.0</td>\n",
       "      <td>0.0</td>\n",
       "      <td>0.0</td>\n",
       "      <td>1.0</td>\n",
       "      <td>0.0</td>\n",
       "      <td>0.0</td>\n",
       "      <td>Lead Data Scientist</td>\n",
       "    </tr>\n",
       "  </tbody>\n",
       "</table>\n",
       "<p>19 rows × 28 columns</p>\n",
       "</div>"
      ],
      "text/plain": [
       "      Python_present  R_present  SQL_present  Java_present  Hadoop_present  \\\n",
       "346                1          0            0             0               0   \n",
       "2058               1          1            0             0               0   \n",
       "2670               1          1            0             1               0   \n",
       "2899               1          1            0             0               0   \n",
       "3346               0          0            1             0               0   \n",
       "4248               1          1            1             0               0   \n",
       "4290               1          1            1             0               0   \n",
       "4292               1          1            1             0               0   \n",
       "5425               1          0            0             0               0   \n",
       "5593               1          1            0             0               0   \n",
       "5712               0          0            0             0               1   \n",
       "6024               1          1            0             0               1   \n",
       "6625               0          0            0             0               1   \n",
       "7091               1          1            1             0               0   \n",
       "7228               1          1            0             0               0   \n",
       "7330               1          1            0             0               0   \n",
       "9087               0          0            0             0               1   \n",
       "9427               1          1            0             0               0   \n",
       "9490               1          1            1             0               0   \n",
       "\n",
       "      categorie_exp_Avancé  categorie_exp_Confirmé  categorie_exp_Débutant  \\\n",
       "346                    0.0                     1.0                     0.0   \n",
       "2058                   0.0                     0.0                     0.0   \n",
       "2670                   0.0                     0.0                     1.0   \n",
       "2899                   0.0                     0.0                     1.0   \n",
       "3346                   1.0                     0.0                     0.0   \n",
       "4248                   0.0                     1.0                     0.0   \n",
       "4290                   0.0                     0.0                     1.0   \n",
       "4292                   0.0                     0.0                     0.0   \n",
       "5425                   1.0                     0.0                     0.0   \n",
       "5593                   0.0                     1.0                     0.0   \n",
       "5712                   0.0                     1.0                     0.0   \n",
       "6024                   0.0                     0.0                     1.0   \n",
       "6625                   0.0                     0.0                     1.0   \n",
       "7091                   0.0                     0.0                     1.0   \n",
       "7228                   0.0                     1.0                     0.0   \n",
       "7330                   0.0                     0.0                     1.0   \n",
       "9087                   0.0                     1.0                     0.0   \n",
       "9427                   0.0                     0.0                     1.0   \n",
       "9490                   1.0                     0.0                     0.0   \n",
       "\n",
       "      categorie_exp_Expert  Ville_Bordeaux  ...  Ville_Rennes  Ville_Rouen  \\\n",
       "346                    0.0             0.0  ...           0.0          0.0   \n",
       "2058                   1.0             0.0  ...           0.0          0.0   \n",
       "2670                   0.0             0.0  ...           0.0          0.0   \n",
       "2899                   0.0             0.0  ...           0.0          0.0   \n",
       "3346                   0.0             0.0  ...           1.0          0.0   \n",
       "4248                   0.0             0.0  ...           0.0          0.0   \n",
       "4290                   0.0             0.0  ...           0.0          0.0   \n",
       "4292                   1.0             1.0  ...           0.0          0.0   \n",
       "5425                   0.0             0.0  ...           0.0          0.0   \n",
       "5593                   0.0             0.0  ...           0.0          0.0   \n",
       "5712                   0.0             0.0  ...           0.0          0.0   \n",
       "6024                   0.0             0.0  ...           0.0          0.0   \n",
       "6625                   0.0             0.0  ...           0.0          0.0   \n",
       "7091                   0.0             0.0  ...           0.0          0.0   \n",
       "7228                   0.0             1.0  ...           0.0          0.0   \n",
       "7330                   0.0             0.0  ...           0.0          0.0   \n",
       "9087                   0.0             0.0  ...           0.0          0.0   \n",
       "9427                   0.0             0.0  ...           0.0          0.0   \n",
       "9490                   0.0             0.0  ...           0.0          0.0   \n",
       "\n",
       "      Ville_Strasbourg  Ville_Toulon  Ville_Toulouse  Diplome_Bachelor  \\\n",
       "346                0.0           0.0             0.0               0.0   \n",
       "2058               0.0           0.0             0.0               0.0   \n",
       "2670               0.0           0.0             1.0               0.0   \n",
       "2899               0.0           0.0             0.0               0.0   \n",
       "3346               0.0           0.0             0.0               0.0   \n",
       "4248               0.0           0.0             0.0               0.0   \n",
       "4290               0.0           0.0             1.0               0.0   \n",
       "4292               0.0           0.0             0.0               0.0   \n",
       "5425               0.0           0.0             0.0               0.0   \n",
       "5593               0.0           0.0             0.0               0.0   \n",
       "5712               0.0           0.0             0.0               1.0   \n",
       "6024               0.0           0.0             0.0               0.0   \n",
       "6625               0.0           0.0             0.0               0.0   \n",
       "7091               0.0           0.0             0.0               0.0   \n",
       "7228               0.0           0.0             0.0               0.0   \n",
       "7330               0.0           0.0             0.0               0.0   \n",
       "9087               0.0           0.0             0.0               0.0   \n",
       "9427               0.0           0.0             0.0               0.0   \n",
       "9490               0.0           0.0             0.0               0.0   \n",
       "\n",
       "      Diplome_Master  Diplome_No diploma  Diplome_Phd     Metier_predicted  \n",
       "346              0.0                 1.0          0.0        Data Engineer  \n",
       "2058             1.0                 0.0          0.0       Data Scientist  \n",
       "2670             1.0                 0.0          0.0       Data Scientist  \n",
       "2899             0.0                 0.0          1.0       Data Scientist  \n",
       "3346             1.0                 0.0          0.0       Data Architect  \n",
       "4248             0.0                 0.0          1.0       Data Scientist  \n",
       "4290             0.0                 0.0          1.0       Data Scientist  \n",
       "4292             1.0                 0.0          0.0  Lead Data Scientist  \n",
       "5425             0.0                 1.0          0.0        Data Engineer  \n",
       "5593             1.0                 0.0          0.0       Data Scientist  \n",
       "5712             0.0                 0.0          0.0       Data Architect  \n",
       "6024             1.0                 0.0          0.0        Data Engineer  \n",
       "6625             0.0                 1.0          0.0       Data Architect  \n",
       "7091             1.0                 0.0          0.0       Data Scientist  \n",
       "7228             1.0                 0.0          0.0       Data Scientist  \n",
       "7330             0.0                 0.0          1.0       Data Scientist  \n",
       "9087             0.0                 1.0          0.0       Data Architect  \n",
       "9427             1.0                 0.0          0.0       Data Scientist  \n",
       "9490             1.0                 0.0          0.0  Lead Data Scientist  \n",
       "\n",
       "[19 rows x 28 columns]"
      ]
     },
     "execution_count": 68,
     "metadata": {},
     "output_type": "execute_result"
    }
   ],
   "source": [
    "data_pred['Metier_predicted']= Metier_predict\n",
    "data_pred"
   ]
  },
  {
   "cell_type": "code",
   "execution_count": null,
   "id": "abeabdf8",
   "metadata": {},
   "outputs": [],
   "source": []
  },
  {
   "cell_type": "code",
   "execution_count": null,
   "id": "f1802c58",
   "metadata": {},
   "outputs": [],
   "source": []
  },
  {
   "cell_type": "markdown",
   "id": "272aa6e3",
   "metadata": {},
   "source": [
    "\n",
    "<hr>\n",
    "\n",
    "\n",
    "| Date              | Auteur           |\n",
    "| ----------------- | ---------------- | \n",
    "| 05-11-2023        | Miracle VODOUMBO | \n",
    "\n",
    "\n",
    "<p>\n",
    "\n"
   ]
  },
  {
   "cell_type": "code",
   "execution_count": null,
   "id": "e358795c",
   "metadata": {},
   "outputs": [],
   "source": []
  }
 ],
 "metadata": {
  "kernelspec": {
   "display_name": "Python 3 (ipykernel)",
   "language": "python",
   "name": "python3"
  },
  "language_info": {
   "codemirror_mode": {
    "name": "ipython",
    "version": 3
   },
   "file_extension": ".py",
   "mimetype": "text/x-python",
   "name": "python",
   "nbconvert_exporter": "python",
   "pygments_lexer": "ipython3",
   "version": "3.11.5"
  }
 },
 "nbformat": 4,
 "nbformat_minor": 5
}
